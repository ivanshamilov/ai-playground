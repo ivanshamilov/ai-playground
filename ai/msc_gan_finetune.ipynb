{
 "cells": [
  {
   "cell_type": "code",
   "execution_count": 1,
   "metadata": {},
   "outputs": [
    {
     "name": "stdout",
     "output_type": "stream",
     "text": [
      "Requirement already satisfied: gdown in /usr/local/lib/python3.9/dist-packages (4.5.1)\n",
      "Requirement already satisfied: requests[socks] in /usr/local/lib/python3.9/dist-packages (from gdown) (2.28.2)\n",
      "Requirement already satisfied: filelock in /usr/local/lib/python3.9/dist-packages (from gdown) (3.9.0)\n",
      "Requirement already satisfied: six in /usr/lib/python3/dist-packages (from gdown) (1.14.0)\n",
      "Requirement already satisfied: beautifulsoup4 in /usr/local/lib/python3.9/dist-packages (from gdown) (4.11.1)\n",
      "Requirement already satisfied: tqdm in /usr/local/lib/python3.9/dist-packages (from gdown) (4.64.1)\n",
      "Requirement already satisfied: soupsieve>1.2 in /usr/local/lib/python3.9/dist-packages (from beautifulsoup4->gdown) (2.3.2.post1)\n",
      "Requirement already satisfied: certifi>=2017.4.17 in /usr/lib/python3/dist-packages (from requests[socks]->gdown) (2019.11.28)\n",
      "Requirement already satisfied: charset-normalizer<4,>=2 in /usr/local/lib/python3.9/dist-packages (from requests[socks]->gdown) (2.1.1)\n",
      "Requirement already satisfied: idna<4,>=2.5 in /usr/lib/python3/dist-packages (from requests[socks]->gdown) (2.8)\n",
      "Requirement already satisfied: urllib3<1.27,>=1.21.1 in /usr/local/lib/python3.9/dist-packages (from requests[socks]->gdown) (1.26.14)\n",
      "Requirement already satisfied: PySocks!=1.5.7,>=1.5.6 in /usr/local/lib/python3.9/dist-packages (from requests[socks]->gdown) (1.7.1)\n",
      "\u001b[33mWARNING: Running pip as the 'root' user can result in broken permissions and conflicting behaviour with the system package manager. It is recommended to use a virtual environment instead: https://pip.pypa.io/warnings/venv\u001b[0m\u001b[33m\n",
      "\u001b[0mMon May 29 18:34:55 2023       \n",
      "+-----------------------------------------------------------------------------+\n",
      "| NVIDIA-SMI 510.73.05    Driver Version: 510.73.05    CUDA Version: 11.6     |\n",
      "|-------------------------------+----------------------+----------------------+\n",
      "| GPU  Name        Persistence-M| Bus-Id        Disp.A | Volatile Uncorr. ECC |\n",
      "| Fan  Temp  Perf  Pwr:Usage/Cap|         Memory-Usage | GPU-Util  Compute M. |\n",
      "|                               |                      |               MIG M. |\n",
      "|===============================+======================+======================|\n",
      "|   0  Quadro P5000        Off  | 00000000:00:05.0 Off |                  Off |\n",
      "| 26%   25C    P8     6W / 180W |      0MiB / 16384MiB |      0%      Default |\n",
      "|                               |                      |                  N/A |\n",
      "+-------------------------------+----------------------+----------------------+\n",
      "                                                                               \n",
      "+-----------------------------------------------------------------------------+\n",
      "| Processes:                                                                  |\n",
      "|  GPU   GI   CI        PID   Type   Process name                  GPU Memory |\n",
      "|        ID   ID                                                   Usage      |\n",
      "|=============================================================================|\n",
      "|  No running processes found                                                 |\n",
      "+-----------------------------------------------------------------------------+\n"
     ]
    }
   ],
   "source": [
    "!pip install gdown\n",
    "!nvidia-smi"
   ]
  },
  {
   "cell_type": "code",
   "execution_count": 190,
   "metadata": {},
   "outputs": [
    {
     "name": "stdout",
     "output_type": "stream",
     "text": [
      "/usr/local/lib/python3.9/dist-packages/gdown/cli.py:127: FutureWarning: Option `--id` was deprecated in version 4.3.1 and will be removed in 5.0. You don't need to pass it anymore to use a file ID.\n",
      "  warnings.warn(\n",
      "Downloading...\n",
      "From: https://drive.google.com/uc?id=1ohWrj07z1iN9Rum_OZWIbTVhNUn4r5Bg&confirm=t\n",
      "To: /notebooks/175467_data_norm.pt\n",
      "100%|████████████████████████████████████████| 102k/102k [00:00<00:00, 26.8MB/s]\n"
     ]
    }
   ],
   "source": [
    "!gdown --id \"1ohWrj07z1iN9Rum_OZWIbTVhNUn4r5Bg&confirm=t\""
   ]
  },
  {
   "cell_type": "markdown",
   "metadata": {},
   "source": [
    "#### Utils"
   ]
  },
  {
   "cell_type": "code",
   "execution_count": 3,
   "metadata": {},
   "outputs": [],
   "source": [
    "import torch\n",
    "import torch.nn as nn\n",
    "import torch.nn.functional as F\n",
    "\n",
    "from typing import List, Tuple\n",
    "\n",
    "\n",
    "class Eops():\n",
    "  # Following https://betterprogramming.pub/how-to-make-your-pytorch-code-run-faster-93079f3c1f7b\n",
    "  def zero_grad(self):\n",
    "    for parameter in self.parameters():\n",
    "      parameter.grad = None\n",
    "\n",
    "  def _init_weights(self, module: nn.Module):\n",
    "    classname = module.__class__.__name__\n",
    "    if classname.find(\"Linear\") != -1:\n",
    "      nn.init.xavier_uniform_(module.weight)\n",
    "      if module.bias is not None:\n",
    "        nn.init.zeros_(module.bias)\n",
    "    elif classname.find(\"Conv\") != -1:\n",
    "      nn.init.xavier_uniform_(module.weight)\n",
    "\n",
    "  def spectral_norm(self, module: nn.Module):\n",
    "    classname = module.__class__.__name__\n",
    "    if classname.find(\"Linear\") != -1 or classname.find(\"Conv\") != -1:\n",
    "      module = torch.nn.utils.parametrizations.spectral_norm(module=module)\n",
    "\n",
    "  def num_params(self):\n",
    "    return f\"{self.__class__.__name__}: {sum(p.numel() for p in self.parameters())/1e6} M parameters\"\n",
    "  \n",
    "  def load_pretrained(self, filepath, device=\"cpu\"):\n",
    "    print(f\"Loading weights for {self.__class__.__name__} from {filepath}\")\n",
    "    print(self.load_state_dict(torch.load(filepath, map_location=torch.device(device))))\n",
    "\n",
    "\n",
    "class TripletLoss(nn.Module):\n",
    "  def __init__(self, margin: float = 1.5):\n",
    "    super(TripletLoss, self).__init__()\n",
    "    self.register_buffer(\"margin\", torch.tensor(margin))\n",
    "\n",
    "  def forward(self, anchor: torch.Tensor, positive: torch.Tensor, negative: torch.Tensor = None) -> Tuple[torch.Tensor]:\n",
    "    \"\"\"\n",
    "    Goal: Anchor / Positive -> minimize distance, Anchor / Negative -> maximize distance \n",
    "    Implementation available in PyTorch (does not include squaring the distances): nn.TripletMarginLoss(1.5)(anchor, positive, negative).\n",
    "    \"\"\"\n",
    "    loss_dict = { \"loss\": None }\n",
    "    euclidean_distance_positive = torch.mean(F.pairwise_distance(anchor, positive, keepdim=True), dim=1)\n",
    "    loss_dict[\"ap_distance\"] = euclidean_distance_positive\n",
    "    if negative is not None:\n",
    "      euclidean_distance_negative = torch.mean(F.pairwise_distance(anchor, negative, keepdim=True), dim=1)\n",
    "      loss = torch.mean(torch.relu(torch.pow(euclidean_distance_positive, 2) - torch.pow(euclidean_distance_negative, 2) + self.margin))\n",
    "      loss_dict[\"loss\"] = loss\n",
    "      loss_dict[\"an_distance\"] = euclidean_distance_negative\n",
    "      # difference should be > 0 (Anchor-Negative distance should be greater than Anchor-Positive distance)\n",
    "      loss_dict[\"an_ap_diff\"] = loss_dict[\"an_distance\"] - loss_dict[\"ap_distance\"]\n",
    "\n",
    "    return loss_dict"
   ]
  },
  {
   "cell_type": "markdown",
   "metadata": {},
   "source": [
    "#### Models"
   ]
  },
  {
   "cell_type": "code",
   "execution_count": 191,
   "metadata": {},
   "outputs": [],
   "source": [
    "import torch \n",
    "import torch.nn as nn\n",
    "import torch.nn.functional as F\n",
    "from time import time \n",
    "from tqdm import tqdm\n",
    "\n",
    "#================ Variables ================#\n",
    "\n",
    "device = torch.device(\"cuda:0\" if torch.cuda.is_available() else \"cpu\")\n",
    "batch_size = 128 \n",
    "leaky_relu_slope = 0.05\n",
    "\n",
    "block_size = 16  # -> window size for the dataset (length of the context)\n",
    "latent_dim = 500 # -> size of the latent space\n",
    "embedding_dim = 144 # -> embedding dimension for the condition \n",
    "ffn_dropout = 0.2 # -> dropout for feed-forward networks\n",
    "vocab_size = 101 # -> to be used in ks_embedding_table, equals to 100\n",
    "generator_output_dim = 2 # -> generate 4 values for each symbol (64 in total)\n",
    "\n",
    "#================ Variables ================#\n",
    "\n",
    "class Generator(nn.Module, Eops):\n",
    "  def __init__(self):\n",
    "    super(Generator, self).__init__()\n",
    "    self.label_conditioned_generator = nn.Sequential(\n",
    "      nn.Embedding(vocab_size, embedding_dim),\n",
    "      nn.Linear(embedding_dim, 512, bias=False)\n",
    "    )\n",
    "\n",
    "    self.latent = nn.Sequential(\n",
    "      nn.Linear(latent_dim, 8 * 16 * 64, bias=False),\n",
    "      nn.LeakyReLU(leaky_relu_slope, inplace=True)\n",
    "    )\n",
    "\n",
    "    self.lstm1 = nn.LSTM(input_size=1024, hidden_size=128, num_layers=2, bias=False, batch_first=True, dropout=0.2)\n",
    "    self.fc = nn.Linear(in_features=128, out_features=512, bias=False)\n",
    "\n",
    "    self.model = nn.Sequential(\n",
    "      nn.LeakyReLU(leaky_relu_slope, inplace=True),\n",
    "      nn.Linear(in_features=512, out_features=1024, bias=False),\n",
    "      nn.LayerNorm(1024),\n",
    "      nn.LeakyReLU(leaky_relu_slope, inplace=True),\n",
    "      nn.Linear(in_features=1024, out_features=256, bias=False),\n",
    "      nn.LayerNorm(256),\n",
    "      nn.LeakyReLU(leaky_relu_slope, inplace=True),\n",
    "      nn.Dropout(ffn_dropout),\n",
    "      nn.Linear(in_features=256, out_features=128, bias=False),\n",
    "      nn.LayerNorm(128),\n",
    "      nn.LeakyReLU(leaky_relu_slope, inplace=True),\n",
    "      nn.Linear(in_features=128, out_features=generator_output_dim, bias=False),\n",
    "      nn.Sigmoid()\n",
    "    )\n",
    "\n",
    "    self.apply(self._init_weights)\n",
    "\n",
    "  def forward(self, latent_space, condition):\n",
    "    condition_out = self.label_conditioned_generator(condition)\n",
    "    latent_out = self.latent(latent_space)\n",
    "    condition_out = condition_out.view(-1, 16, 4 * 128)\n",
    "    latent_out = latent_out.view(-1, 16, 4 * 128)\n",
    "    concat = torch.cat((latent_out, condition_out), dim=2)\n",
    "\n",
    "    x, _ = self.lstm1(concat)\n",
    "    x = self.fc(x)\n",
    "    x = F.dropout(x, 0.5)\n",
    "    x = self.model(x)\n",
    "\n",
    "\n",
    "    return x\n",
    "\n",
    "\n",
    "class Discriminator(nn.Module, Eops):\n",
    "  def __init__(self):\n",
    "    super(Discriminator, self).__init__()\n",
    "    self.label_conditioned_discriminator = nn.Sequential(\n",
    "      nn.Embedding(vocab_size, embedding_dim),\n",
    "      nn.Linear(embedding_dim, 32, bias=False)\n",
    "    )\n",
    "\n",
    "    self.embed_keystroke = nn.Sequential(\n",
    "      nn.Linear(in_features=generator_output_dim, out_features=512),\n",
    "      nn.LeakyReLU(leaky_relu_slope, inplace=True)\n",
    "    )\n",
    "\n",
    "    self.lstm1 = nn.LSTM(input_size=544, hidden_size=128, num_layers=2, bias=False, batch_first=True, dropout=0.2)\n",
    "    self.fc = nn.Linear(in_features=128, out_features=1024, bias=False)\n",
    "\n",
    "    self.model = nn.Sequential(\n",
    "      nn.LeakyReLU(leaky_relu_slope, inplace=True),\n",
    "      nn.Linear(1024, 512),\n",
    "      nn.LeakyReLU(leaky_relu_slope, inplace=True),\n",
    "      nn.Dropout(ffn_dropout * 2),\n",
    "      nn.Linear(512, 256),\n",
    "      nn.LeakyReLU(leaky_relu_slope, inplace=True),\n",
    "      nn.Linear(256, 1),\n",
    "    )\n",
    "\n",
    "    self.head = nn.Linear(16, 1)\n",
    "    self.sigmoid = nn.Sigmoid()\n",
    "    self.apply(self._init_weights)\n",
    "\n",
    "  def forward(self, keystroke_times, condition_symbols):\n",
    "    condition_out = self.label_conditioned_discriminator(condition_symbols)\n",
    "    keystroke_times = self.embed_keystroke(keystroke_times)\n",
    "    x = torch.cat((keystroke_times, condition_out), dim=2)\n",
    "    x, _ = self.lstm1(x)\n",
    "    x = self.fc(x)\n",
    "    x = F.dropout(x, 0.5)\n",
    "    x = self.model(x)\n",
    "    x = x.view(batch_size, -1)\n",
    "    x = self.head(x)\n",
    "\n",
    "    return self.sigmoid(x)"
   ]
  },
  {
   "cell_type": "markdown",
   "metadata": {},
   "source": [
    "#### Train Loop"
   ]
  },
  {
   "cell_type": "code",
   "execution_count": 594,
   "metadata": {},
   "outputs": [],
   "source": [
    "import torch\n",
    "import torch.nn as nn\n",
    "import torch.nn.functional as F\n",
    "\n",
    "from tqdm import tqdm\n",
    "\n",
    "\n",
    "#================ Variables ================#\n",
    "num_epochs = 300    # -> number of time the model will see whole dataset\n",
    "epoch_log = 1 # -> prints per epoch \n",
    "evaluation_interval = 20 # -> evaluate model every 'revaluation_interval' epoch\n",
    "\n",
    "generator_lr = 1e-4 # -> generator learning rate\n",
    "discriminator_lr = 2e-4 # -> discriminator learning rate\n",
    "adam_beta1 = 0.5 # -> beta1 for AdamW optimizer\n",
    "adam_beta2 = 0.999 # -> beta2 (momentum) value for AdamW optimizer\n",
    "\n",
    "device = torch.device(\"cuda:0\" if torch.cuda.is_available() else \"cpu\")\n",
    "\n",
    "\n",
    "@torch.no_grad()\n",
    "def evaluate_model(generator, discriminator, dataloader):\n",
    "  generator.eval()\n",
    "  discriminator.eval()\n",
    "  real_accuracy, fake_accuracy = 0, 0\n",
    "  reconstruction_loss = 0\n",
    "  kl_div = 0\n",
    "\n",
    "  actuals = torch.tensor([], dtype=torch.float32, device=device)\n",
    "  outs = torch.tensor([], dtype=torch.float32, device=device)\n",
    "\n",
    "  for i, (ks_symbols, ks_times) in enumerate(dataloader):\n",
    "    # if ks_symbols.shape[0] < batch_size:\n",
    "    #   continue\n",
    "    ks_times, ks_symbols = ks_times.to(device), ks_symbols.to(device)\n",
    "    latent_space = torch.randn(ks_symbols.shape[0], latent_dim, device=device)\n",
    "    generated_out = generator(latent_space, ks_symbols)\n",
    "    reconstruction_loss += F.mse_loss(input=generated_out, target=ks_times).item()\n",
    "    kl_div += distribution_similarity(generated_out, ks_times)\n",
    "\n",
    "    labels = torch.ones(ks_symbols.shape[0], 1, device=device)\n",
    "    disc_real_output = discriminator(ks_times, ks_symbols)\n",
    "    real_accuracy += (torch.round(disc_real_output) == labels).float().mean().item()\n",
    "    \n",
    "    labels.fill_(0.)\n",
    "\n",
    "    disc_fake_output = discriminator(generated_out, ks_symbols)\n",
    "    fake_accuracy += (torch.round(disc_fake_output) == labels).float().mean().item()\n",
    "\n",
    "    actuals = torch.cat((actuals, ks_times))\n",
    "    outs = torch.cat((outs, generated_out))\n",
    "\n",
    "\n",
    "  reconstruction_loss /= len(dataloader)\n",
    "  kl_div /= len(dataloader)\n",
    "  real_accuracy /= len(dataloader)\n",
    "  fake_accuracy /= len(dataloader)\n",
    "\n",
    "  discriminator.train()\n",
    "  generator.train()\n",
    "\n",
    "  return actuals, outs, reconstruction_loss, kl_div, real_accuracy, fake_accuracy\n",
    "\n",
    "\n",
    "def distribution_similarity(generated_dist, actual_dist):\n",
    "  generated_scaled = (generated_dist - actual_dist.mean()) / actual_dist.std()  # if similar to actual -> result should be close to the normal one \n",
    "  kl_loss = torch.log(generated_scaled.std()) + (1 + torch.square(generated_scaled.mean())) / (2 * torch.square(generated_scaled.std())) - 0.5 # compare with the normal one \n",
    "  return kl_loss\n",
    "\n",
    "\n",
    "def calculate_loss(input, target):\n",
    "  return F.binary_cross_entropy(input, target)\n",
    "\n",
    "\n",
    "def reconstruction_loss(input, target):\n",
    "  return F.mse_loss(input=input, target=target).item()\n",
    "\n",
    "\n",
    "def train_step(models, optims, keystrokes, keystroke_times, rl_loss_lambda):\n",
    "  generator, discriminator = models\n",
    "  optim_G, optim_D = optims\n",
    "\n",
    "  # 1. Prepare data (set real / fake labels)\n",
    "  keystrokes, real_keystroke_times = keystrokes.to(device), keystroke_times.to(device)\n",
    "  real_label = torch.ones(keystrokes.shape[0], 1, device=device)\n",
    "  fake_label = torch.zeros(keystrokes.shape[0], 1, device=device)\n",
    "\n",
    "  # 2. Train the discriminator\n",
    "  discriminator.zero_grad()\n",
    "  real_loss_D = calculate_loss(discriminator(real_keystroke_times, keystrokes), real_label)\n",
    "  latent_space = torch.randn(keystrokes.shape[0], latent_dim, device=device)\n",
    "  generated_keystroke_times = generator(latent_space, keystrokes)\n",
    "  fake_loss_D = calculate_loss(discriminator(generated_keystroke_times.detach(), keystrokes), fake_label)\n",
    "  total_loss_D = (real_loss_D + fake_loss_D) / 2\n",
    "  mse_loss = reconstruction_loss(generated_keystroke_times, real_keystroke_times)\n",
    "  total_loss_D = total_loss_D + rl_loss_lambda * mse_loss\n",
    "  total_loss_D.backward()\n",
    "  optim_D.step()\n",
    "\n",
    "  # 3. Train the generator\n",
    "  generator.zero_grad()\n",
    "  loss_G = calculate_loss(discriminator(generated_keystroke_times, keystrokes), real_label)\n",
    "  loss_G = loss_G + rl_loss_lambda * mse_loss\n",
    "  loss_G.backward()\n",
    "  optim_G.step()\n",
    "\n",
    "  return loss_G, total_loss_D, mse_loss\n",
    "\n",
    "\n",
    "def train_loop(generator, discriminator, train_dataloader, validation_dataloader, device=device, rl_loss_lambda=5, verbose=10):\n",
    "  actuals, outputs = [], []\n",
    "  loss_list_D, loss_list_G, mse_losses = [], [], []\n",
    "  real_accuracies, fake_accuracies, eval_reconstruction_losses, kl_divergences = [], [], [], [] \n",
    "  generator, discriminator = generator.to(device), discriminator.to(device)\n",
    "  optim_G = torch.optim.AdamW(generator.parameters(), lr=generator_lr, betas=(adam_beta1, adam_beta2))\n",
    "  optim_D = torch.optim.AdamW(discriminator.parameters(), lr=discriminator_lr, betas=(adam_beta1, adam_beta2))\n",
    "\n",
    "  for epoch in tqdm(range(1, num_epochs + 1)):\n",
    "    curr_loss_G, curr_loss_D, curr_mse = 0, 0, 0\n",
    "    for index, (keystroke_symbols, keystroke_times) in enumerate(train_dataloader):\n",
    "      loss_G, loss_D, mse_loss = train_step(models=(generator, discriminator), optims=(optim_G, optim_D), \n",
    "                                  keystrokes=keystroke_symbols, keystroke_times=keystroke_times, rl_loss_lambda=rl_loss_lambda)\n",
    "      curr_loss_G += loss_G.item()\n",
    "      curr_loss_D += loss_D.item()\n",
    "      curr_mse += mse_loss\n",
    "\n",
    "      # if index % (len(train_dataloader) // epoch_log) == 0:\n",
    "      #   print(f\"[Epoch: {epoch} / {num_epochs}][{index:4d}/{len(train_dataloader):4d}] Generator loss: {loss_G:2.5f}, discriminator loss: {loss_D:2.5f}\")\n",
    "    \n",
    "    if epoch % evaluation_interval == 0:\n",
    "      acts, outs, loss, kl_div, real_accuracy, fake_accuracy = evaluate_model(generator, discriminator, validation_dataloader)\n",
    "      actuals.append(acts)\n",
    "      outputs.append(outs)\n",
    "      real_accuracies.append(real_accuracy)\n",
    "      fake_accuracies.append(fake_accuracy)\n",
    "      eval_reconstruction_losses.append(loss)\n",
    "      kl_divergences.append(kl_div)\n",
    "      print(f\"MSE loss: {loss:2.5f}, KL div: {kl_div:2.5f}, Real accuracy: {real_accuracy:2.5f}, Fake accuracy: {fake_accuracy:2.5f}\")\n",
    "\n",
    "    curr_loss_G /= len(train_dataloader)\n",
    "    curr_loss_D /= len(train_dataloader)\n",
    "    curr_mse /= len(train_dataloader)\n",
    "    loss_list_D.append(curr_loss_D)\n",
    "    loss_list_G.append(curr_loss_G)\n",
    "    mse_losses.append(curr_mse)\n",
    "\n",
    "    if epoch % verbose == 0:\n",
    "      print(f\"###### [Epoch: {epoch} / {num_epochs}] Epoch MSE loss: {curr_mse:2.10f} Epoch generator loss: {curr_loss_G:2.5f}, Epoch discriminator loss: {curr_loss_D:2.5f}\")\n",
    "\n",
    "  return actuals, outputs, loss_list_G, loss_list_D, mse_losses, eval_reconstruction_losses, kl_divergences, real_accuracies, fake_accuracies\n"
   ]
  },
  {
   "cell_type": "markdown",
   "metadata": {},
   "source": [
    "#### Process"
   ]
  },
  {
   "cell_type": "code",
   "execution_count": 595,
   "metadata": {},
   "outputs": [
    {
     "name": "stdout",
     "output_type": "stream",
     "text": [
      " 175467_data_norm.pt   models\t\t\t    tn_test_500.pt\n",
      " 233209_data_norm.pt   msc\t\t\t    tn_train_100.pt\n",
      " 416085_data_norm.pt   norm_data_10000_128.pt\t    tn_train_500.pt\n",
      " MNIST\t\t       norm_data_1000_128.pt\t    tn_valid_100.pt\n",
      " README.md\t       norm_data_100_128.pt\t    tn_valid_500.pt\n",
      "'UCI HAR Dataset'      norm_data_5000_128.pt\t    tsa_project.ipynb\n",
      " __MACOSX\t       norm_data_50_128.pt\t   'view?usp=sharing'\n",
      " data\t\t       one-user-norm-32.pt\t   'view?usp=sharing.1'\n",
      " dataset.zip\t       quick_start_pytorch_images\n",
      " dcgan.ipynb\t       tn_test_100.pt\n"
     ]
    }
   ],
   "source": [
    "!ls"
   ]
  },
  {
   "cell_type": "code",
   "execution_count": 603,
   "metadata": {},
   "outputs": [
    {
     "data": {
      "text/plain": [
       "(3, 463)"
      ]
     },
     "execution_count": 603,
     "metadata": {},
     "output_type": "execute_result"
    }
   ],
   "source": [
    "dataloader = torch.load(\"416085_data_norm.pt\")\n",
    "len(dataloader), len(dataloader.dataset)"
   ]
  },
  {
   "cell_type": "code",
   "execution_count": 604,
   "metadata": {},
   "outputs": [
    {
     "name": "stdout",
     "output_type": "stream",
     "text": [
      "Loading weights for Generator from models/generator_big.pt\n",
      "<All keys matched successfully>\n",
      "Loading weights for Discriminator from models/discriminator_big.pt\n",
      "<All keys matched successfully>\n"
     ]
    }
   ],
   "source": [
    "generator_pt = Generator().to(device)\n",
    "discriminator_pt = Discriminator().to(device)\n",
    "\n",
    "generator_pt.load_pretrained(\"models/generator_big.pt\")\n",
    "discriminator_pt.load_pretrained(\"models/discriminator_big.pt\")"
   ]
  },
  {
   "cell_type": "code",
   "execution_count": 605,
   "metadata": {},
   "outputs": [
    {
     "name": "stderr",
     "output_type": "stream",
     "text": [
      "  7%|▋         | 21/300 [00:02<00:32,  8.54it/s]"
     ]
    },
    {
     "name": "stdout",
     "output_type": "stream",
     "text": [
      "MSE loss: 0.00077, KL div: 0.00306, Real accuracy: 0.99479, Fake accuracy: 0.86719\n"
     ]
    },
    {
     "name": "stderr",
     "output_type": "stream",
     "text": [
      "  9%|▊         | 26/300 [00:02<00:30,  9.11it/s]"
     ]
    },
    {
     "name": "stdout",
     "output_type": "stream",
     "text": [
      "###### [Epoch: 25 / 300] Epoch MSE loss: 0.0007831656 Epoch generator loss: 6.04260, Epoch discriminator loss: 0.16585\n"
     ]
    },
    {
     "name": "stderr",
     "output_type": "stream",
     "text": [
      " 14%|█▎        | 41/300 [00:04<00:29,  8.69it/s]"
     ]
    },
    {
     "name": "stdout",
     "output_type": "stream",
     "text": [
      "MSE loss: 0.00081, KL div: 0.00191, Real accuracy: 1.00000, Fake accuracy: 0.96094\n"
     ]
    },
    {
     "name": "stderr",
     "output_type": "stream",
     "text": [
      " 17%|█▋        | 51/300 [00:05<00:26,  9.24it/s]"
     ]
    },
    {
     "name": "stdout",
     "output_type": "stream",
     "text": [
      "###### [Epoch: 50 / 300] Epoch MSE loss: 0.0008441498 Epoch generator loss: 7.16476, Epoch discriminator loss: 0.09676\n"
     ]
    },
    {
     "name": "stderr",
     "output_type": "stream",
     "text": [
      " 20%|██        | 61/300 [00:06<00:27,  8.69it/s]"
     ]
    },
    {
     "name": "stdout",
     "output_type": "stream",
     "text": [
      "MSE loss: 0.00088, KL div: 0.01020, Real accuracy: 1.00000, Fake accuracy: 0.96875\n"
     ]
    },
    {
     "name": "stderr",
     "output_type": "stream",
     "text": [
      " 25%|██▌       | 76/300 [00:08<00:23,  9.43it/s]"
     ]
    },
    {
     "name": "stdout",
     "output_type": "stream",
     "text": [
      "###### [Epoch: 75 / 300] Epoch MSE loss: 0.0007414012 Epoch generator loss: 7.93342, Epoch discriminator loss: 0.04799\n"
     ]
    },
    {
     "name": "stderr",
     "output_type": "stream",
     "text": [
      " 27%|██▋       | 81/300 [00:08<00:24,  8.88it/s]"
     ]
    },
    {
     "name": "stdout",
     "output_type": "stream",
     "text": [
      "MSE loss: 0.00073, KL div: 0.00147, Real accuracy: 1.00000, Fake accuracy: 0.98177\n"
     ]
    },
    {
     "name": "stderr",
     "output_type": "stream",
     "text": [
      " 34%|███▎      | 101/300 [00:11<00:23,  8.63it/s]"
     ]
    },
    {
     "name": "stdout",
     "output_type": "stream",
     "text": [
      "MSE loss: 0.00072, KL div: 0.00140, Real accuracy: 1.00000, Fake accuracy: 0.96875\n",
      "###### [Epoch: 100 / 300] Epoch MSE loss: 0.0007394344 Epoch generator loss: 8.69175, Epoch discriminator loss: 0.05256\n"
     ]
    },
    {
     "name": "stderr",
     "output_type": "stream",
     "text": [
      " 40%|████      | 121/300 [00:13<00:20,  8.87it/s]"
     ]
    },
    {
     "name": "stdout",
     "output_type": "stream",
     "text": [
      "MSE loss: 0.00067, KL div: 0.00102, Real accuracy: 1.00000, Fake accuracy: 0.97396\n"
     ]
    },
    {
     "name": "stderr",
     "output_type": "stream",
     "text": [
      " 42%|████▏     | 126/300 [00:13<00:18,  9.36it/s]"
     ]
    },
    {
     "name": "stdout",
     "output_type": "stream",
     "text": [
      "###### [Epoch: 125 / 300] Epoch MSE loss: 0.0006696874 Epoch generator loss: 9.26785, Epoch discriminator loss: 0.04697\n"
     ]
    },
    {
     "name": "stderr",
     "output_type": "stream",
     "text": [
      " 47%|████▋     | 141/300 [00:15<00:18,  8.68it/s]"
     ]
    },
    {
     "name": "stdout",
     "output_type": "stream",
     "text": [
      "MSE loss: 0.00061, KL div: 0.00495, Real accuracy: 1.00000, Fake accuracy: 0.96875\n"
     ]
    },
    {
     "name": "stderr",
     "output_type": "stream",
     "text": [
      " 50%|█████     | 151/300 [00:16<00:15,  9.38it/s]"
     ]
    },
    {
     "name": "stdout",
     "output_type": "stream",
     "text": [
      "###### [Epoch: 150 / 300] Epoch MSE loss: 0.0006024531 Epoch generator loss: 9.52732, Epoch discriminator loss: 0.04914\n"
     ]
    },
    {
     "name": "stderr",
     "output_type": "stream",
     "text": [
      " 54%|█████▎    | 161/300 [00:17<00:15,  8.95it/s]"
     ]
    },
    {
     "name": "stdout",
     "output_type": "stream",
     "text": [
      "MSE loss: 0.00053, KL div: 0.01034, Real accuracy: 1.00000, Fake accuracy: 0.94531\n"
     ]
    },
    {
     "name": "stderr",
     "output_type": "stream",
     "text": [
      " 59%|█████▊    | 176/300 [00:19<00:12,  9.55it/s]"
     ]
    },
    {
     "name": "stdout",
     "output_type": "stream",
     "text": [
      "###### [Epoch: 175 / 300] Epoch MSE loss: 0.0005388353 Epoch generator loss: 9.61982, Epoch discriminator loss: 0.05994\n"
     ]
    },
    {
     "name": "stderr",
     "output_type": "stream",
     "text": [
      " 60%|██████    | 181/300 [00:19<00:13,  8.98it/s]"
     ]
    },
    {
     "name": "stdout",
     "output_type": "stream",
     "text": [
      "MSE loss: 0.00055, KL div: 0.00382, Real accuracy: 1.00000, Fake accuracy: 0.94010\n"
     ]
    },
    {
     "name": "stderr",
     "output_type": "stream",
     "text": [
      " 67%|██████▋   | 201/300 [00:21<00:11,  8.99it/s]"
     ]
    },
    {
     "name": "stdout",
     "output_type": "stream",
     "text": [
      "MSE loss: 0.00053, KL div: 0.00033, Real accuracy: 1.00000, Fake accuracy: 0.91667\n",
      "###### [Epoch: 200 / 300] Epoch MSE loss: 0.0005836757 Epoch generator loss: 10.14240, Epoch discriminator loss: 0.05068\n"
     ]
    },
    {
     "name": "stderr",
     "output_type": "stream",
     "text": [
      " 74%|███████▎  | 221/300 [00:24<00:09,  8.76it/s]"
     ]
    },
    {
     "name": "stdout",
     "output_type": "stream",
     "text": [
      "MSE loss: 0.00053, KL div: 0.00217, Real accuracy: 1.00000, Fake accuracy: 0.91406\n"
     ]
    },
    {
     "name": "stderr",
     "output_type": "stream",
     "text": [
      " 75%|███████▌  | 226/300 [00:24<00:08,  9.14it/s]"
     ]
    },
    {
     "name": "stdout",
     "output_type": "stream",
     "text": [
      "###### [Epoch: 225 / 300] Epoch MSE loss: 0.0005620279 Epoch generator loss: 9.47066, Epoch discriminator loss: 0.06560\n"
     ]
    },
    {
     "name": "stderr",
     "output_type": "stream",
     "text": [
      " 80%|████████  | 241/300 [00:26<00:06,  8.89it/s]"
     ]
    },
    {
     "name": "stdout",
     "output_type": "stream",
     "text": [
      "MSE loss: 0.00047, KL div: 0.00218, Real accuracy: 1.00000, Fake accuracy: 0.88021\n"
     ]
    },
    {
     "name": "stderr",
     "output_type": "stream",
     "text": [
      " 84%|████████▎ | 251/300 [00:27<00:05,  9.51it/s]"
     ]
    },
    {
     "name": "stdout",
     "output_type": "stream",
     "text": [
      "###### [Epoch: 250 / 300] Epoch MSE loss: 0.0004680846 Epoch generator loss: 9.73249, Epoch discriminator loss: 0.08679\n"
     ]
    },
    {
     "name": "stderr",
     "output_type": "stream",
     "text": [
      " 87%|████████▋ | 261/300 [00:28<00:04,  8.91it/s]"
     ]
    },
    {
     "name": "stdout",
     "output_type": "stream",
     "text": [
      "MSE loss: 0.00047, KL div: 0.00632, Real accuracy: 1.00000, Fake accuracy: 0.86979\n"
     ]
    },
    {
     "name": "stderr",
     "output_type": "stream",
     "text": [
      " 92%|█████████▏| 276/300 [00:29<00:02,  9.29it/s]"
     ]
    },
    {
     "name": "stdout",
     "output_type": "stream",
     "text": [
      "###### [Epoch: 275 / 300] Epoch MSE loss: 0.0004372079 Epoch generator loss: 9.07967, Epoch discriminator loss: 0.09315\n"
     ]
    },
    {
     "name": "stderr",
     "output_type": "stream",
     "text": [
      " 94%|█████████▎| 281/300 [00:30<00:02,  8.71it/s]"
     ]
    },
    {
     "name": "stdout",
     "output_type": "stream",
     "text": [
      "MSE loss: 0.00047, KL div: 0.01078, Real accuracy: 1.00000, Fake accuracy: 0.84896\n"
     ]
    },
    {
     "name": "stderr",
     "output_type": "stream",
     "text": [
      "100%|██████████| 300/300 [00:32<00:00,  9.21it/s]"
     ]
    },
    {
     "name": "stdout",
     "output_type": "stream",
     "text": [
      "MSE loss: 0.00041, KL div: 0.00753, Real accuracy: 1.00000, Fake accuracy: 0.84115\n",
      "###### [Epoch: 300 / 300] Epoch MSE loss: 0.0004383115 Epoch generator loss: 8.82892, Epoch discriminator loss: 0.09329\n"
     ]
    },
    {
     "name": "stderr",
     "output_type": "stream",
     "text": [
      "\n"
     ]
    }
   ],
   "source": [
    "actuals, outputs, loss_list_G, loss_list_D, mse_losses, eval_reconstruction_losses, kl_divergences, real_accuracies, fake_accuracies = train_loop(generator_pt, \n",
    "                                                                                                                                                  discriminator_pt, \n",
    "                                                                                                                                                  dataloader,\n",
    "                                                                                                                                                  dataloader,\n",
    "                                                                                                                                                  verbose=25)"
   ]
  },
  {
   "cell_type": "code",
   "execution_count": 606,
   "metadata": {},
   "outputs": [],
   "source": [
    "import matplotlib.pyplot as plt \n",
    "\n",
    "for i in range(len(actuals)):\n",
    "    actuals[i] = actuals[i].detach().cpu().numpy()\n",
    "    outputs[i] = outputs[i].detach().cpu().numpy()"
   ]
  },
  {
   "cell_type": "code",
   "execution_count": 607,
   "metadata": {},
   "outputs": [
    {
     "data": {
      "text/plain": [
       "<matplotlib.legend.Legend at 0x7feecb6c35b0>"
      ]
     },
     "execution_count": 607,
     "metadata": {},
     "output_type": "execute_result"
    },
    {
     "data": {
      "image/png": "[encoded data removed]",
      "text/plain": [
       "<Figure size 640x480 with 1 Axes>"
      ]
     },
     "metadata": {},
     "output_type": "display_data"
    }
   ],
   "source": [
    "plt.scatter(outputs[0][:, :, 0], outputs[0][:, :, 1], label=\"outs\")\n",
    "\n",
    "plt.scatter(actuals[0][:, :, 0], actuals[0][:, :, 1], label=\"actuals\")\n",
    "\n",
    "plt.ylim([0.2, 0.6])\n",
    "\n",
    "plt.legend()"
   ]
  },
  {
   "cell_type": "code",
   "execution_count": 608,
   "metadata": {},
   "outputs": [
    {
     "data": {
      "text/plain": [
       "15"
      ]
     },
     "execution_count": 608,
     "metadata": {},
     "output_type": "execute_result"
    }
   ],
   "source": [
    "len(outputs)"
   ]
  },
  {
   "cell_type": "code",
   "execution_count": 609,
   "metadata": {},
   "outputs": [
    {
     "data": {
      "text/plain": [
       "<matplotlib.legend.Legend at 0x7fef15ff3610>"
      ]
     },
     "execution_count": 609,
     "metadata": {},
     "output_type": "execute_result"
    },
    {
     "data": {
      "image/png": "[encoded data removed]",
      "text/plain": [
       "<Figure size 640x480 with 1 Axes>"
      ]
     },
     "metadata": {},
     "output_type": "display_data"
    }
   ],
   "source": [
    "plt.scatter(outputs[14][:, :, 0], outputs[14][:, :, 1], label=\"outs\")\n",
    "\n",
    "plt.scatter(actuals[11][:, :, 0], actuals[11][:, :, 1], label=\"actuals\")\n",
    "\n",
    "plt.ylim([0.2, 0.6])\n",
    "\n",
    "plt.legend()"
   ]
  },
  {
   "cell_type": "code",
   "execution_count": 100,
   "metadata": {},
   "outputs": [
    {
     "data": {
      "text/plain": [
       "tensor([[0.3333, 0.3547, 0.3458,  ..., 0.3422, 0.3547, 0.3191],\n",
       "        [0.3333, 0.3336, 0.3349,  ..., 0.3422, 0.3582, 0.3422],\n",
       "        [0.3333, 0.3422, 0.3351,  ..., 0.3387, 0.3387, 0.3689],\n",
       "        ...,\n",
       "        [0.3333, 0.3280, 0.3244,  ..., 0.3387, 0.3316, 0.3491],\n",
       "        [0.3333, 0.3298, 0.3564,  ..., 0.3440, 0.3529, 0.4187],\n",
       "        [0.3333, 0.3262, 0.4027,  ..., 0.3580, 0.3478, 0.3511]],\n",
       "       device='cuda:0')"
      ]
     },
     "execution_count": 100,
     "metadata": {},
     "output_type": "execute_result"
    }
   ],
   "source": [
    "actuals[0][:, :, 1]"
   ]
  },
  {
   "cell_type": "code",
   "execution_count": 36,
   "metadata": {},
   "outputs": [],
   "source": [
    "for X, y in dataloader:\n",
    "    X, y = X.to(device), y.to(device)\n",
    "    latent = torch.randn(X.shape[0], latent_dim, device=device)\n",
    "    out = generator_pt(latent, X)\n",
    "    d = discriminator_pt(out, X)\n",
    "    break\n",
    "    # print(X.shape, y.shape)"
   ]
  },
  {
   "cell_type": "code",
   "execution_count": 37,
   "metadata": {},
   "outputs": [
    {
     "data": {
      "text/plain": [
       "tensor([[1.8106e-05],\n",
       "        [5.7807e-03],\n",
       "        [5.5830e-04],\n",
       "        [1.4300e-02],\n",
       "        [3.4276e-05],\n",
       "        [4.8122e-06],\n",
       "        [1.0828e-05],\n",
       "        [8.6842e-03],\n",
       "        [3.8517e-02],\n",
       "        [1.2136e-04],\n",
       "        [4.1856e-04],\n",
       "        [1.1718e-03],\n",
       "        [2.1104e-01],\n",
       "        [2.9925e-04],\n",
       "        [6.8162e-04],\n",
       "        [6.6865e-07],\n",
       "        [8.9728e-01],\n",
       "        [2.1916e-03],\n",
       "        [3.0863e-01],\n",
       "        [2.4080e-04],\n",
       "        [4.6292e-02],\n",
       "        [2.1122e-04],\n",
       "        [4.7191e-01],\n",
       "        [6.2244e-02],\n",
       "        [8.6204e-04],\n",
       "        [8.5841e-01],\n",
       "        [6.9811e-01],\n",
       "        [9.8566e-02],\n",
       "        [3.6369e-04],\n",
       "        [1.4272e-04],\n",
       "        [4.2472e-01],\n",
       "        [4.7321e-01],\n",
       "        [4.5458e-03],\n",
       "        [1.7120e-02],\n",
       "        [2.3341e-01],\n",
       "        [5.0702e-07],\n",
       "        [3.0012e-02],\n",
       "        [3.5008e-01],\n",
       "        [2.6785e-04],\n",
       "        [7.9623e-03],\n",
       "        [7.7482e-03],\n",
       "        [3.1965e-02],\n",
       "        [1.5722e-03],\n",
       "        [8.0281e-02],\n",
       "        [1.1344e-04],\n",
       "        [1.0850e-03],\n",
       "        [8.1851e-01],\n",
       "        [1.5747e-01],\n",
       "        [2.0887e-04],\n",
       "        [3.2003e-04],\n",
       "        [5.9578e-06],\n",
       "        [2.2776e-02],\n",
       "        [5.7231e-08],\n",
       "        [2.6915e-02],\n",
       "        [2.7958e-02],\n",
       "        [3.5191e-04],\n",
       "        [9.5026e-01],\n",
       "        [1.5925e-01],\n",
       "        [8.5486e-04],\n",
       "        [5.1813e-04],\n",
       "        [6.7149e-03],\n",
       "        [9.3844e-01],\n",
       "        [2.7922e-02],\n",
       "        [1.4283e-02],\n",
       "        [1.1530e-05],\n",
       "        [1.1464e-02],\n",
       "        [1.6819e-06],\n",
       "        [1.9612e-01],\n",
       "        [1.2813e-06],\n",
       "        [6.6386e-02],\n",
       "        [1.2538e-03],\n",
       "        [2.1305e-03],\n",
       "        [9.0843e-01],\n",
       "        [2.7480e-02],\n",
       "        [3.9497e-03],\n",
       "        [5.0976e-04],\n",
       "        [1.4204e-01],\n",
       "        [1.9623e-06],\n",
       "        [2.1272e-01],\n",
       "        [1.0974e-04],\n",
       "        [2.4303e-05],\n",
       "        [4.8171e-04],\n",
       "        [1.3383e-05],\n",
       "        [1.6728e-09],\n",
       "        [3.2541e-04],\n",
       "        [2.1237e-01],\n",
       "        [7.0630e-04],\n",
       "        [2.9529e-01],\n",
       "        [4.2261e-06],\n",
       "        [8.7977e-01],\n",
       "        [3.5416e-05],\n",
       "        [9.1805e-06],\n",
       "        [2.0995e-03],\n",
       "        [7.7042e-04],\n",
       "        [3.2146e-04],\n",
       "        [4.3390e-03],\n",
       "        [3.0933e-01],\n",
       "        [5.1304e-03],\n",
       "        [2.5000e-03],\n",
       "        [1.2218e-03],\n",
       "        [9.0290e-05],\n",
       "        [7.7289e-03],\n",
       "        [8.9812e-05],\n",
       "        [1.2928e-01],\n",
       "        [7.6392e-03],\n",
       "        [9.8728e-05],\n",
       "        [1.5649e-01],\n",
       "        [5.7261e-05],\n",
       "        [2.0109e-03],\n",
       "        [8.8980e-01],\n",
       "        [4.3846e-04],\n",
       "        [2.2879e-03],\n",
       "        [7.4819e-03],\n",
       "        [1.9623e-05],\n",
       "        [3.1084e-02],\n",
       "        [3.4454e-03],\n",
       "        [6.8386e-05],\n",
       "        [1.2021e-06],\n",
       "        [1.5239e-08],\n",
       "        [4.4536e-01],\n",
       "        [1.2680e-04],\n",
       "        [4.6221e-02],\n",
       "        [1.0536e-06],\n",
       "        [2.6772e-02],\n",
       "        [3.4091e-04],\n",
       "        [5.1876e-03],\n",
       "        [1.9667e-03],\n",
       "        [7.5869e-05]], device='cuda:0', grad_fn=<SigmoidBackward0>)"
      ]
     },
     "execution_count": 37,
     "metadata": {},
     "output_type": "execute_result"
    }
   ],
   "source": []
  },
  {
   "cell_type": "code",
   "execution_count": null,
   "metadata": {},
   "outputs": [],
   "source": []
  }
 ],
 "metadata": {
  "kernelspec": {
   "display_name": "Python 3 (ipykernel)",
   "language": "python",
   "name": "python3"
  },
  "language_info": {
   "codemirror_mode": {
    "name": "ipython",
    "version": 3
   },
   "file_extension": ".py",
   "mimetype": "text/x-python",
   "name": "python",
   "nbconvert_exporter": "python",
   "pygments_lexer": "ipython3",
   "version": "3.10.11"
  }
 },
 "nbformat": 4,
 "nbformat_minor": 2
}
