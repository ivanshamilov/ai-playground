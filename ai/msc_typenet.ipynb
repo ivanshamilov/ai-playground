{
 "cells": [
  {
   "cell_type": "code",
   "execution_count": 1,
   "metadata": {},
   "outputs": [
    {
     "name": "stdout",
     "output_type": "stream",
     "text": [
      "Sun May 28 10:01:48 2023       \n",
      "+-----------------------------------------------------------------------------+\n",
      "| NVIDIA-SMI 510.73.05    Driver Version: 510.73.05    CUDA Version: 11.6     |\n",
      "|-------------------------------+----------------------+----------------------+\n",
      "| GPU  Name        Persistence-M| Bus-Id        Disp.A | Volatile Uncorr. ECC |\n",
      "| Fan  Temp  Perf  Pwr:Usage/Cap|         Memory-Usage | GPU-Util  Compute M. |\n",
      "|                               |                      |               MIG M. |\n",
      "|===============================+======================+======================|\n",
      "|   0  NVIDIA RTX A4000    Off  | 00000000:00:05.0 Off |                  Off |\n",
      "| 41%   52C    P8    19W / 140W |      0MiB / 16376MiB |      0%      Default |\n",
      "|                               |                      |                  N/A |\n",
      "+-------------------------------+----------------------+----------------------+\n",
      "                                                                               \n",
      "+-----------------------------------------------------------------------------+\n",
      "| Processes:                                                                  |\n",
      "|  GPU   GI   CI        PID   Type   Process name                  GPU Memory |\n",
      "|        ID   ID                                                   Usage      |\n",
      "|=============================================================================|\n",
      "|  No running processes found                                                 |\n",
      "+-----------------------------------------------------------------------------+\n",
      "Requirement already satisfied: gdown in /usr/local/lib/python3.9/dist-packages (4.5.1)\n",
      "Requirement already satisfied: requests[socks] in /usr/local/lib/python3.9/dist-packages (from gdown) (2.28.2)\n",
      "Requirement already satisfied: filelock in /usr/local/lib/python3.9/dist-packages (from gdown) (3.9.0)\n",
      "Requirement already satisfied: six in /usr/lib/python3/dist-packages (from gdown) (1.14.0)\n",
      "Requirement already satisfied: tqdm in /usr/local/lib/python3.9/dist-packages (from gdown) (4.64.1)\n",
      "Requirement already satisfied: beautifulsoup4 in /usr/local/lib/python3.9/dist-packages (from gdown) (4.11.1)\n",
      "Requirement already satisfied: soupsieve>1.2 in /usr/local/lib/python3.9/dist-packages (from beautifulsoup4->gdown) (2.3.2.post1)\n",
      "Requirement already satisfied: certifi>=2017.4.17 in /usr/lib/python3/dist-packages (from requests[socks]->gdown) (2019.11.28)\n",
      "Requirement already satisfied: urllib3<1.27,>=1.21.1 in /usr/local/lib/python3.9/dist-packages (from requests[socks]->gdown) (1.26.14)\n",
      "Requirement already satisfied: charset-normalizer<4,>=2 in /usr/local/lib/python3.9/dist-packages (from requests[socks]->gdown) (2.1.1)\n",
      "Requirement already satisfied: idna<4,>=2.5 in /usr/lib/python3/dist-packages (from requests[socks]->gdown) (2.8)\n",
      "Requirement already satisfied: PySocks!=1.5.7,>=1.5.6 in /usr/local/lib/python3.9/dist-packages (from requests[socks]->gdown) (1.7.1)\n",
      "\u001b[33mWARNING: Running pip as the 'root' user can result in broken permissions and conflicting behaviour with the system package manager. It is recommended to use a virtual environment instead: https://pip.pypa.io/warnings/venv\u001b[0m\u001b[33m\n",
      "\u001b[0m"
     ]
    }
   ],
   "source": [
    "!nvidia-smi\n",
    "!pip install gdown"
   ]
  },
  {
   "cell_type": "code",
   "execution_count": 2,
   "metadata": {},
   "outputs": [
    {
     "name": "stdout",
     "output_type": "stream",
     "text": [
      "/usr/local/lib/python3.9/dist-packages/gdown/cli.py:127: FutureWarning: Option `--id` was deprecated in version 4.3.1 and will be removed in 5.0. You don't need to pass it anymore to use a file ID.\n",
      "  warnings.warn(\n",
      "Downloading...\n",
      "From: https://drive.google.com/uc?id=1rdsZgm6Xgi53N5di-Tt-KXVg5YN5WWpD&confirm=t\n",
      "To: /notebooks/tn_train_100.pt\n",
      "100%|██████████████████████████████████████| 27.7M/27.7M [00:00<00:00, 40.1MB/s]\n",
      "/usr/local/lib/python3.9/dist-packages/gdown/cli.py:127: FutureWarning: Option `--id` was deprecated in version 4.3.1 and will be removed in 5.0. You don't need to pass it anymore to use a file ID.\n",
      "  warnings.warn(\n",
      "Downloading...\n",
      "From: https://drive.google.com/uc?id=1c_MCkUOxENkjiobj77zyGsRlOXqGuZQR&confirm=t\n",
      "To: /notebooks/tn_valid_100.pt\n",
      "100%|███████████████████████████████████████| 27.6M/27.6M [00:00<00:00, 113MB/s]\n",
      "/usr/local/lib/python3.9/dist-packages/gdown/cli.py:127: FutureWarning: Option `--id` was deprecated in version 4.3.1 and will be removed in 5.0. You don't need to pass it anymore to use a file ID.\n",
      "  warnings.warn(\n",
      "Downloading...\n",
      "From: https://drive.google.com/uc?id=1NPBVQknTHRtZerQpltSQ4p1ESPZZ40sX&confirm=t\n",
      "To: /notebooks/tn_test_100.pt\n",
      "100%|██████████████████████████████████████| 27.6M/27.6M [00:00<00:00, 33.1MB/s]\n"
     ]
    }
   ],
   "source": [
    "!gdown --id \"1rdsZgm6Xgi53N5di-Tt-KXVg5YN5WWpD&confirm=t\"\n",
    "!gdown --id \"1c_MCkUOxENkjiobj77zyGsRlOXqGuZQR&confirm=t\"\n",
    "!gdown --id \"1NPBVQknTHRtZerQpltSQ4p1ESPZZ40sX&confirm=t\""
   ]
  },
  {
   "cell_type": "code",
   "execution_count": 3,
   "metadata": {},
   "outputs": [],
   "source": [
    "import torch\n",
    "import torch.nn as nn\n",
    "import torch.nn.functional as F\n",
    "\n",
    "from typing import List, Tuple\n",
    "\n",
    "\n",
    "class Eops():\n",
    "  # Following https://betterprogramming.pub/how-to-make-your-pytorch-code-run-faster-93079f3c1f7b\n",
    "  def zero_grad(self):\n",
    "    for parameter in self.parameters():\n",
    "      parameter.grad = None\n",
    "\n",
    "  def _init_weights(self, module: nn.Module):\n",
    "    classname = module.__class__.__name__\n",
    "    if classname.find(\"Linear\") != -1:\n",
    "      nn.init.xavier_uniform_(module.weight)\n",
    "      if module.bias is not None:\n",
    "        nn.init.zeros_(module.bias)\n",
    "    elif classname.find(\"Conv\") != -1:\n",
    "      nn.init.xavier_uniform_(module.weight)\n",
    "\n",
    "  def spectral_norm(self, module: nn.Module):\n",
    "    classname = module.__class__.__name__\n",
    "    if classname.find(\"Linear\") != -1 or classname.find(\"Conv\") != -1:\n",
    "      module = torch.nn.utils.parametrizations.spectral_norm(module=module)\n",
    "\n",
    "  def num_params(self):\n",
    "    return f\"{self.__class__.__name__}: {sum(p.numel() for p in self.parameters())/1e6} M parameters\"\n",
    "\n",
    "\n",
    "class TripletLoss(nn.Module):\n",
    "  def __init__(self, margin: float = 1.5):\n",
    "    super(TripletLoss, self).__init__()\n",
    "    self.register_buffer(\"margin\", torch.tensor(margin))\n",
    "\n",
    "  def forward(self, anchor: torch.Tensor, positive: torch.Tensor, negative: torch.Tensor = None) -> Tuple[torch.Tensor]:\n",
    "    \"\"\"\n",
    "    Goal: Anchor / Positive -> minimize distance, Anchor / Negative -> maximize distance \n",
    "    Implementation available in PyTorch (does not include squaring the distances): nn.TripletMarginLoss(1.5)(anchor, positive, negative).\n",
    "    \"\"\"\n",
    "    loss_dict = { \"loss\": None }\n",
    "    euclidean_distance_positive = torch.mean(F.pairwise_distance(anchor, positive, keepdim=True), dim=1)\n",
    "    loss_dict[\"ap_distance\"] = euclidean_distance_positive\n",
    "    if negative is not None:\n",
    "      euclidean_distance_negative = torch.mean(F.pairwise_distance(anchor, negative, keepdim=True), dim=1)\n",
    "      loss = torch.mean(torch.relu(torch.pow(euclidean_distance_positive, 2) - torch.pow(euclidean_distance_negative, 2) + self.margin))\n",
    "      loss_dict[\"loss\"] = loss\n",
    "      loss_dict[\"an_distance\"] = euclidean_distance_negative\n",
    "      # difference should be > 0 (Anchor-Negative distance should be greater than Anchor-Positive distance)\n",
    "      loss_dict[\"an_ap_diff\"] = loss_dict[\"an_distance\"] - loss_dict[\"ap_distance\"]\n",
    "\n",
    "    return loss_dict"
   ]
  },
  {
   "cell_type": "code",
   "execution_count": 4,
   "metadata": {},
   "outputs": [],
   "source": [
    "import torch \n",
    "import sys\n",
    "\n",
    "import torch.nn as nn\n",
    "import torch.nn.functional as F\n",
    "\n",
    "\n",
    "#================ Variables ================#\n",
    "torch.manual_seed(20801)\n",
    "\n",
    "device = torch.device(\"cuda:0\" if torch.cuda.is_available() else \"cpu\")\n",
    "batch_size = 128 \n",
    "\n",
    "\n",
    "class TypeNet(nn.Module, Eops):\n",
    "  \"\"\"\n",
    "  Implementation of the TypeNet with a Triplet Loss (https://arxiv.org/pdf/2101.05570.pdf)\n",
    "  \"\"\"\n",
    "  def __init__(self, window_size: int, interlayer_dropout: float, recurrent_dropout: float):\n",
    "    super(TypeNet, self).__init__()\n",
    "    # input size -> [batch_size, 48 (3 time series with the length of window_size), 3 features (keycode, HL, IKI)]\n",
    "    self.bn1 = nn.BatchNorm1d(window_size)\n",
    "    self.register_buffer(\"recurrent_dropout\", torch.tensor(recurrent_dropout))\n",
    "    self.register_buffer(\"window_size\", torch.tensor(window_size))\n",
    "    self.lstm1 = nn.LSTM(input_size=3, hidden_size=128, num_layers=1, batch_first=True)\n",
    "    self.interlayer_dropout = nn.Dropout(p=interlayer_dropout)\n",
    "    self.bn2 = nn.BatchNorm1d(128)\n",
    "    self.lstm2 = nn.LSTM(input_size=128, hidden_size=128, num_layers=1, batch_first=True)\n",
    "    print(self.num_params())\n",
    "\n",
    "  def lstm_forward(self, layer, x):\n",
    "    _, time_steps, _ = x.size()\n",
    "    hx = torch.randn(1, 128, device=device)\n",
    "    cx = torch.randn(1, 128, device=device)\n",
    "    output = []\n",
    "    for i in range(time_steps):\n",
    "      out, (hx, cx) = layer(x[:, i], (hx, cx))\n",
    "      hx, cx = F.dropout(hx, p=self.recurrent_dropout), F.dropout(cx, p=self.recurrent_dropout)  # recurrent dropout\n",
    "      output.append(out)\n",
    "    \n",
    "    output = torch.stack(output, dim=0)\n",
    "    return output, (hx, cx)\n",
    "\n",
    "  def single_forward(self, x):\n",
    "    x = self.bn1(x)\n",
    "    x, _ = self.lstm_forward(self.lstm1, x)\n",
    "    x = self.interlayer_dropout(x)\n",
    "    x = self.bn2(x)\n",
    "    x, _ = self.lstm_forward(self.lstm2, x)\n",
    "    return x\n",
    "\n",
    "  def forward(self, anchor, positive, negative = None, calculate_loss: bool = True):\n",
    "    \"\"\"\n",
    "    Triplet loss will be used -> the model will return 3 outputs\n",
    "    A triplet is composed by three different samples from two different classes: \n",
    "    Anchor (A) and Positive (P) are different keystroke sequences from the same subject, \n",
    "    and Negative (N) is a keystroke sequence from a different subject\n",
    "    \"\"\"\n",
    "    anchor = self.single_forward(anchor)\n",
    "    positive = self.single_forward(positive)\n",
    "\n",
    "    if negative is not None:\n",
    "      negative = self.single_forward(negative)\n",
    "\n",
    "    if calculate_loss:\n",
    "      criterion = TripletLoss(margin=1.5)\n",
    "      losses = criterion(anchor=anchor, positive=positive, negative=negative)\n",
    "\n",
    "    return anchor, positive, negative, losses\n"
   ]
  },
  {
   "cell_type": "code",
   "execution_count": 5,
   "metadata": {},
   "outputs": [],
   "source": [
    "import torch\n",
    "import torch.nn as nn\n",
    "import torch.nn.functional as F\n",
    "\n",
    "from tqdm import tqdm\n",
    "\n",
    "#================ Variables ================#\n",
    "\n",
    "device = torch.device(\"cuda:0\" if torch.cuda.is_available() else \"cpu\")\n",
    "\n",
    "batch_size = 128\n",
    "num_epochs = 100    # -> number of time the model will see whole dataset\n",
    "epoch_log = 1\n",
    "\n",
    "window_size = 16\n",
    "learning_rate = 1e-4  # -> learning rate\n",
    "adam_beta1 = 0.9 # -> beta1 for AdamW optimizer\n",
    "adam_beta2 = 0.999 # -> beta2 (momentum) value for AdamW optimizer\n",
    "\n",
    "#================ Methods ================#\n",
    "\n",
    "@torch.no_grad()\n",
    "def evaluate_model(model, dataloader):\n",
    "    model.eval()\n",
    "    loss, ap_distance, an_distance, an_ap_diff = 0, 0, 0, 0\n",
    "\n",
    "    for data in dataloader:\n",
    "        data = data.to(device)\n",
    "        anchor, positive, negative = torch.split(data, window_size, dim=1)\n",
    "        _, _, _, loss_dict = model(anchor=anchor, positive=positive, negative=negative, calculate_loss=True)    \n",
    "\n",
    "        loss += loss_dict[\"loss\"].item()\n",
    "        ap_distance += torch.mean(loss_dict[\"ap_distance\"]).item()\n",
    "        an_distance += torch.mean(loss_dict[\"an_distance\"]).item()\n",
    "        an_ap_diff += torch.mean(loss_dict[\"an_ap_diff\"]).item()\n",
    "\n",
    "    loss /= len(dataloader)\n",
    "    ap_distance /= len(dataloader)\n",
    "    an_distance /= len(dataloader)\n",
    "    an_ap_diff /= len(dataloader)\n",
    "\n",
    "    model.train()\n",
    "\n",
    "    return loss, ap_distance, an_distance, an_ap_diff\n",
    "\n",
    "\n",
    "def train_loop(model, train_dataloader, validation_dataloader, device=device):\n",
    "    model.train()\n",
    "    train_loss_list, train_ap_list, train_an_list, train_an_ap_diff_list = [], [], [], []\n",
    "    val_loss_list, val_ap_list, val_an_list, val_an_ap_diff_list = [], [], [], []\n",
    "    model = model.to(device)\n",
    "    optim = torch.optim.Adam(model.parameters(), lr=learning_rate, betas=(adam_beta1, adam_beta2))\n",
    "    for epoch in tqdm(range(1, num_epochs + 1)):\n",
    "        epoch_loss, epoch_ap_distance, epoch_an_distance, epoch_an_ap_diff = 0, 0, 0, 0\n",
    "        for index, data in enumerate(train_dataloader):\n",
    "            # if data[0].shape[0] < batch_size:\n",
    "            #     continue\n",
    "            data = data.to(device)\n",
    "            model.zero_grad()\n",
    "            anchor, positive, negative = torch.split(data, window_size, dim=1)\n",
    "            _, _, _, loss_dict = model(anchor=anchor, positive=positive, negative=negative, calculate_loss=True)\n",
    "\n",
    "            epoch_loss += loss_dict[\"loss\"].item()\n",
    "            epoch_ap_distance += torch.mean(loss_dict[\"ap_distance\"]).item()\n",
    "            epoch_an_distance += torch.mean(loss_dict[\"an_distance\"]).item()\n",
    "            epoch_an_ap_diff += torch.mean(loss_dict[\"an_ap_diff\"]).item()\n",
    "\n",
    "            loss_dict[\"loss\"].backward()\n",
    "            optim.step()\n",
    "\n",
    "            if index % (len(train_dataloader) // epoch_log) == 0:\n",
    "              print(f\"[Epoch: {epoch} / {num_epochs}][{index:4d}/{len(train_dataloader):4d}] Loss: {loss_dict['loss'].item():2.5f}, ANP difference: {torch.mean(loss_dict['an_ap_diff']).item():3.6f}\")\n",
    "          \n",
    "        epoch_loss /= len(train_dataloader)\n",
    "        epoch_ap_distance /= len(train_dataloader)\n",
    "        epoch_an_distance /= len(train_dataloader)\n",
    "        epoch_an_ap_diff /= len(train_dataloader)\n",
    "\n",
    "        train_loss_list.append(epoch_loss)\n",
    "        train_ap_list.append(epoch_ap_distance)\n",
    "        train_an_list.append(epoch_an_distance)\n",
    "        train_an_ap_diff_list.append(epoch_an_ap_diff)\n",
    "\n",
    "        val_loss, val_ap_distance, val_an_distance, val_an_ap_diff = evaluate_model(model, validation_dataloader)\n",
    "\n",
    "        val_loss_list.append(val_loss)\n",
    "        val_ap_list.append(val_ap_distance)\n",
    "        val_an_list.append(val_an_distance)\n",
    "        val_an_ap_diff_list.append(val_an_ap_diff)        \n",
    "\n",
    "        print(f\"###### [Epoch: {epoch} / {num_epochs}] Train: Epoch loss: {epoch_loss:2.5f}, Epoch ANP difference: {epoch_an_ap_diff:3.5f}\")\n",
    "        print(f\"###### [Epoch: {epoch} / {num_epochs}] Valid: Epoch loss: {val_loss:2.5f}, Epoch ANP difference: {val_an_ap_diff:3.5f}\")\n",
    "      \n",
    "    return train_loss_list, train_ap_list, train_an_list, train_an_ap_diff_list, val_loss_list, val_ap_list, val_an_list, val_an_ap_diff_list"
   ]
  },
  {
   "cell_type": "code",
   "execution_count": 6,
   "metadata": {},
   "outputs": [],
   "source": [
    "train_dataloader = torch.load(\"tn_train_100.pt\")\n",
    "valid_dataloader = torch.load(\"tn_valid_100.pt\")\n",
    "test_dataloader = torch.load(\"tn_test_100.pt\")"
   ]
  },
  {
   "cell_type": "code",
   "execution_count": 7,
   "metadata": {},
   "outputs": [
    {
     "name": "stdout",
     "output_type": "stream",
     "text": [
      "TypeNet: 0.20048 M parameters\n"
     ]
    },
    {
     "name": "stderr",
     "output_type": "stream",
     "text": [
      "  0%|          | 0/100 [00:00<?, ?it/s]"
     ]
    },
    {
     "name": "stdout",
     "output_type": "stream",
     "text": [
      "[Epoch: 1 / 100][   0/ 299] Loss: 1.44362, ANP difference: 0.015191\n"
     ]
    },
    {
     "name": "stderr",
     "output_type": "stream",
     "text": [
      "  1%|          | 1/100 [01:28<2:25:58, 88.47s/it]"
     ]
    },
    {
     "name": "stdout",
     "output_type": "stream",
     "text": [
      "###### [Epoch: 1 / 100] Train: Epoch loss: 1.16915, Epoch ANP difference: 0.14873\n",
      "###### [Epoch: 1 / 100] Valid: Epoch loss: 1.01706, Epoch ANP difference: 0.52549\n",
      "[Epoch: 2 / 100][   0/ 299] Loss: 0.73008, ANP difference: 0.413638\n"
     ]
    },
    {
     "name": "stderr",
     "output_type": "stream",
     "text": [
      "  2%|▏         | 2/100 [02:56<2:23:51, 88.07s/it]"
     ]
    },
    {
     "name": "stdout",
     "output_type": "stream",
     "text": [
      "###### [Epoch: 2 / 100] Train: Epoch loss: 0.86135, Epoch ANP difference: 0.29089\n",
      "###### [Epoch: 2 / 100] Valid: Epoch loss: 0.50627, Epoch ANP difference: 0.86680\n",
      "[Epoch: 3 / 100][   0/ 299] Loss: 0.83326, ANP difference: 0.249880\n"
     ]
    },
    {
     "name": "stderr",
     "output_type": "stream",
     "text": [
      "  3%|▎         | 3/100 [04:22<2:21:02, 87.24s/it]"
     ]
    },
    {
     "name": "stdout",
     "output_type": "stream",
     "text": [
      "###### [Epoch: 3 / 100] Train: Epoch loss: 0.65414, Epoch ANP difference: 0.42683\n",
      "###### [Epoch: 3 / 100] Valid: Epoch loss: 0.52649, Epoch ANP difference: 0.98448\n",
      "[Epoch: 4 / 100][   0/ 299] Loss: 0.52458, ANP difference: 0.481494\n"
     ]
    },
    {
     "name": "stderr",
     "output_type": "stream",
     "text": [
      "  4%|▍         | 4/100 [05:51<2:20:46, 87.98s/it]"
     ]
    },
    {
     "name": "stdout",
     "output_type": "stream",
     "text": [
      "###### [Epoch: 4 / 100] Train: Epoch loss: 0.57298, Epoch ANP difference: 0.50201\n",
      "###### [Epoch: 4 / 100] Valid: Epoch loss: 0.37445, Epoch ANP difference: 1.11759\n",
      "[Epoch: 5 / 100][   0/ 299] Loss: 0.98819, ANP difference: 0.320751\n"
     ]
    },
    {
     "name": "stderr",
     "output_type": "stream",
     "text": [
      "  5%|▌         | 5/100 [07:17<2:18:22, 87.39s/it]"
     ]
    },
    {
     "name": "stdout",
     "output_type": "stream",
     "text": [
      "###### [Epoch: 5 / 100] Train: Epoch loss: 0.44596, Epoch ANP difference: 0.61825\n",
      "###### [Epoch: 5 / 100] Valid: Epoch loss: 0.34889, Epoch ANP difference: 1.29061\n",
      "[Epoch: 6 / 100][   0/ 299] Loss: 1.02130, ANP difference: 0.409600\n"
     ]
    },
    {
     "name": "stderr",
     "output_type": "stream",
     "text": [
      "  6%|▌         | 6/100 [08:44<2:16:31, 87.14s/it]"
     ]
    },
    {
     "name": "stdout",
     "output_type": "stream",
     "text": [
      "###### [Epoch: 6 / 100] Train: Epoch loss: 0.38429, Epoch ANP difference: 0.69379\n",
      "###### [Epoch: 6 / 100] Valid: Epoch loss: 0.25565, Epoch ANP difference: 1.50218\n",
      "[Epoch: 7 / 100][   0/ 299] Loss: 0.30629, ANP difference: 0.718310\n"
     ]
    },
    {
     "name": "stderr",
     "output_type": "stream",
     "text": [
      "  7%|▋         | 7/100 [10:12<2:15:11, 87.23s/it]"
     ]
    },
    {
     "name": "stdout",
     "output_type": "stream",
     "text": [
      "###### [Epoch: 7 / 100] Train: Epoch loss: 0.30335, Epoch ANP difference: 0.79593\n",
      "###### [Epoch: 7 / 100] Valid: Epoch loss: 0.22528, Epoch ANP difference: 1.62105\n",
      "[Epoch: 8 / 100][   0/ 299] Loss: 0.30843, ANP difference: 0.870170\n"
     ]
    },
    {
     "name": "stderr",
     "output_type": "stream",
     "text": [
      "  8%|▊         | 8/100 [11:38<2:13:30, 87.07s/it]"
     ]
    },
    {
     "name": "stdout",
     "output_type": "stream",
     "text": [
      "###### [Epoch: 8 / 100] Train: Epoch loss: 0.28208, Epoch ANP difference: 0.85275\n",
      "###### [Epoch: 8 / 100] Valid: Epoch loss: 0.18673, Epoch ANP difference: 1.57782\n",
      "[Epoch: 9 / 100][   0/ 299] Loss: 0.63801, ANP difference: 0.721152\n"
     ]
    },
    {
     "name": "stderr",
     "output_type": "stream",
     "text": [
      "  9%|▉         | 9/100 [13:05<2:11:40, 86.82s/it]"
     ]
    },
    {
     "name": "stdout",
     "output_type": "stream",
     "text": [
      "###### [Epoch: 9 / 100] Train: Epoch loss: 0.24321, Epoch ANP difference: 0.92232\n",
      "###### [Epoch: 9 / 100] Valid: Epoch loss: 0.21538, Epoch ANP difference: 1.68606\n",
      "[Epoch: 10 / 100][   0/ 299] Loss: 0.31314, ANP difference: 1.101062\n"
     ]
    },
    {
     "name": "stderr",
     "output_type": "stream",
     "text": [
      " 10%|█         | 10/100 [14:32<2:10:26, 86.97s/it]"
     ]
    },
    {
     "name": "stdout",
     "output_type": "stream",
     "text": [
      "###### [Epoch: 10 / 100] Train: Epoch loss: 0.21752, Epoch ANP difference: 0.97119\n",
      "###### [Epoch: 10 / 100] Valid: Epoch loss: 0.17409, Epoch ANP difference: 1.67597\n",
      "[Epoch: 11 / 100][   0/ 299] Loss: 0.14413, ANP difference: 1.016079\n"
     ]
    },
    {
     "name": "stderr",
     "output_type": "stream",
     "text": [
      " 11%|█         | 11/100 [15:59<2:09:03, 87.00s/it]"
     ]
    },
    {
     "name": "stdout",
     "output_type": "stream",
     "text": [
      "###### [Epoch: 11 / 100] Train: Epoch loss: 0.19634, Epoch ANP difference: 1.01301\n",
      "###### [Epoch: 11 / 100] Valid: Epoch loss: 0.16381, Epoch ANP difference: 1.65457\n",
      "[Epoch: 12 / 100][   0/ 299] Loss: 0.29473, ANP difference: 0.798648\n"
     ]
    },
    {
     "name": "stderr",
     "output_type": "stream",
     "text": [
      " 12%|█▏        | 12/100 [17:26<2:07:49, 87.15s/it]"
     ]
    },
    {
     "name": "stdout",
     "output_type": "stream",
     "text": [
      "###### [Epoch: 12 / 100] Train: Epoch loss: 0.18922, Epoch ANP difference: 1.03950\n",
      "###### [Epoch: 12 / 100] Valid: Epoch loss: 0.12204, Epoch ANP difference: 1.67298\n",
      "[Epoch: 13 / 100][   0/ 299] Loss: 0.14891, ANP difference: 1.042337\n"
     ]
    },
    {
     "name": "stderr",
     "output_type": "stream",
     "text": [
      " 13%|█▎        | 13/100 [18:54<2:06:42, 87.39s/it]"
     ]
    },
    {
     "name": "stdout",
     "output_type": "stream",
     "text": [
      "###### [Epoch: 13 / 100] Train: Epoch loss: 0.17167, Epoch ANP difference: 1.07146\n",
      "###### [Epoch: 13 / 100] Valid: Epoch loss: 0.12701, Epoch ANP difference: 1.81209\n",
      "[Epoch: 14 / 100][   0/ 299] Loss: 0.28267, ANP difference: 1.100570\n"
     ]
    },
    {
     "name": "stderr",
     "output_type": "stream",
     "text": [
      " 14%|█▍        | 14/100 [20:22<2:05:13, 87.36s/it]"
     ]
    },
    {
     "name": "stdout",
     "output_type": "stream",
     "text": [
      "###### [Epoch: 14 / 100] Train: Epoch loss: 0.16450, Epoch ANP difference: 1.10396\n",
      "###### [Epoch: 14 / 100] Valid: Epoch loss: 0.13031, Epoch ANP difference: 1.84672\n",
      "[Epoch: 15 / 100][   0/ 299] Loss: 0.20126, ANP difference: 1.068285\n"
     ]
    },
    {
     "name": "stderr",
     "output_type": "stream",
     "text": [
      " 15%|█▌        | 15/100 [21:48<2:03:18, 87.04s/it]"
     ]
    },
    {
     "name": "stdout",
     "output_type": "stream",
     "text": [
      "###### [Epoch: 15 / 100] Train: Epoch loss: 0.15324, Epoch ANP difference: 1.11583\n",
      "###### [Epoch: 15 / 100] Valid: Epoch loss: 0.11663, Epoch ANP difference: 1.80908\n",
      "[Epoch: 16 / 100][   0/ 299] Loss: 0.21105, ANP difference: 0.966067\n"
     ]
    },
    {
     "name": "stderr",
     "output_type": "stream",
     "text": [
      " 16%|█▌        | 16/100 [23:15<2:01:50, 87.03s/it]"
     ]
    },
    {
     "name": "stdout",
     "output_type": "stream",
     "text": [
      "###### [Epoch: 16 / 100] Train: Epoch loss: 0.14029, Epoch ANP difference: 1.15512\n",
      "###### [Epoch: 16 / 100] Valid: Epoch loss: 0.08646, Epoch ANP difference: 1.76445\n",
      "[Epoch: 17 / 100][   0/ 299] Loss: 0.07000, ANP difference: 1.212108\n"
     ]
    },
    {
     "name": "stderr",
     "output_type": "stream",
     "text": [
      " 17%|█▋        | 17/100 [24:43<2:00:41, 87.24s/it]"
     ]
    },
    {
     "name": "stdout",
     "output_type": "stream",
     "text": [
      "###### [Epoch: 17 / 100] Train: Epoch loss: 0.13520, Epoch ANP difference: 1.17616\n",
      "###### [Epoch: 17 / 100] Valid: Epoch loss: 0.12755, Epoch ANP difference: 1.74527\n",
      "[Epoch: 18 / 100][   0/ 299] Loss: 0.03790, ANP difference: 1.245149\n"
     ]
    },
    {
     "name": "stderr",
     "output_type": "stream",
     "text": [
      " 18%|█▊        | 18/100 [26:08<1:58:38, 86.81s/it]"
     ]
    },
    {
     "name": "stdout",
     "output_type": "stream",
     "text": [
      "###### [Epoch: 18 / 100] Train: Epoch loss: 0.13307, Epoch ANP difference: 1.18434\n",
      "###### [Epoch: 18 / 100] Valid: Epoch loss: 0.12701, Epoch ANP difference: 1.83894\n",
      "[Epoch: 19 / 100][   0/ 299] Loss: 0.13532, ANP difference: 1.252521\n"
     ]
    },
    {
     "name": "stderr",
     "output_type": "stream",
     "text": [
      " 19%|█▉        | 19/100 [27:36<1:57:23, 86.95s/it]"
     ]
    },
    {
     "name": "stdout",
     "output_type": "stream",
     "text": [
      "###### [Epoch: 19 / 100] Train: Epoch loss: 0.13468, Epoch ANP difference: 1.19135\n",
      "###### [Epoch: 19 / 100] Valid: Epoch loss: 0.09531, Epoch ANP difference: 1.83629\n",
      "[Epoch: 20 / 100][   0/ 299] Loss: 0.11756, ANP difference: 1.122366\n"
     ]
    },
    {
     "name": "stderr",
     "output_type": "stream",
     "text": [
      " 20%|██        | 20/100 [29:03<1:55:55, 86.94s/it]"
     ]
    },
    {
     "name": "stdout",
     "output_type": "stream",
     "text": [
      "###### [Epoch: 20 / 100] Train: Epoch loss: 0.12726, Epoch ANP difference: 1.20581\n",
      "###### [Epoch: 20 / 100] Valid: Epoch loss: 0.09353, Epoch ANP difference: 1.88988\n",
      "[Epoch: 21 / 100][   0/ 299] Loss: 0.18051, ANP difference: 1.377107\n"
     ]
    },
    {
     "name": "stderr",
     "output_type": "stream",
     "text": [
      " 21%|██        | 21/100 [30:31<1:54:55, 87.29s/it]"
     ]
    },
    {
     "name": "stdout",
     "output_type": "stream",
     "text": [
      "###### [Epoch: 21 / 100] Train: Epoch loss: 0.12362, Epoch ANP difference: 1.17829\n",
      "###### [Epoch: 21 / 100] Valid: Epoch loss: 0.06458, Epoch ANP difference: 1.89167\n",
      "[Epoch: 22 / 100][   0/ 299] Loss: 0.04776, ANP difference: 1.451999\n"
     ]
    },
    {
     "name": "stderr",
     "output_type": "stream",
     "text": [
      " 22%|██▏       | 22/100 [31:58<1:53:28, 87.29s/it]"
     ]
    },
    {
     "name": "stdout",
     "output_type": "stream",
     "text": [
      "###### [Epoch: 22 / 100] Train: Epoch loss: 0.11248, Epoch ANP difference: 1.26074\n",
      "###### [Epoch: 22 / 100] Valid: Epoch loss: 0.09515, Epoch ANP difference: 1.87347\n",
      "[Epoch: 23 / 100][   0/ 299] Loss: 0.06183, ANP difference: 1.025246\n"
     ]
    },
    {
     "name": "stderr",
     "output_type": "stream",
     "text": [
      " 23%|██▎       | 23/100 [33:25<1:51:59, 87.26s/it]"
     ]
    },
    {
     "name": "stdout",
     "output_type": "stream",
     "text": [
      "###### [Epoch: 23 / 100] Train: Epoch loss: 0.09917, Epoch ANP difference: 1.27833\n",
      "###### [Epoch: 23 / 100] Valid: Epoch loss: 0.06165, Epoch ANP difference: 2.05105\n",
      "[Epoch: 24 / 100][   0/ 299] Loss: 0.03806, ANP difference: 1.193221\n"
     ]
    },
    {
     "name": "stderr",
     "output_type": "stream",
     "text": [
      " 24%|██▍       | 24/100 [34:53<1:50:43, 87.42s/it]"
     ]
    },
    {
     "name": "stdout",
     "output_type": "stream",
     "text": [
      "###### [Epoch: 24 / 100] Train: Epoch loss: 0.09818, Epoch ANP difference: 1.25810\n",
      "###### [Epoch: 24 / 100] Valid: Epoch loss: 0.07719, Epoch ANP difference: 1.83803\n",
      "[Epoch: 25 / 100][   0/ 299] Loss: 0.09067, ANP difference: 1.423261\n"
     ]
    },
    {
     "name": "stderr",
     "output_type": "stream",
     "text": [
      " 25%|██▌       | 25/100 [36:20<1:48:57, 87.17s/it]"
     ]
    },
    {
     "name": "stdout",
     "output_type": "stream",
     "text": [
      "###### [Epoch: 25 / 100] Train: Epoch loss: 0.09965, Epoch ANP difference: 1.29775\n",
      "###### [Epoch: 25 / 100] Valid: Epoch loss: 0.05211, Epoch ANP difference: 1.89959\n",
      "[Epoch: 26 / 100][   0/ 299] Loss: 0.03135, ANP difference: 1.221915\n"
     ]
    },
    {
     "name": "stderr",
     "output_type": "stream",
     "text": [
      " 26%|██▌       | 26/100 [37:47<1:47:29, 87.16s/it]"
     ]
    },
    {
     "name": "stdout",
     "output_type": "stream",
     "text": [
      "###### [Epoch: 26 / 100] Train: Epoch loss: 0.08584, Epoch ANP difference: 1.32472\n",
      "###### [Epoch: 26 / 100] Valid: Epoch loss: 0.06958, Epoch ANP difference: 1.99366\n",
      "[Epoch: 27 / 100][   0/ 299] Loss: 0.04822, ANP difference: 1.379297\n"
     ]
    },
    {
     "name": "stderr",
     "output_type": "stream",
     "text": [
      " 27%|██▋       | 27/100 [39:14<1:46:05, 87.20s/it]"
     ]
    },
    {
     "name": "stdout",
     "output_type": "stream",
     "text": [
      "###### [Epoch: 27 / 100] Train: Epoch loss: 0.08146, Epoch ANP difference: 1.36623\n",
      "###### [Epoch: 27 / 100] Valid: Epoch loss: 0.06984, Epoch ANP difference: 2.03017\n",
      "[Epoch: 28 / 100][   0/ 299] Loss: 0.10224, ANP difference: 1.409173\n"
     ]
    },
    {
     "name": "stderr",
     "output_type": "stream",
     "text": [
      " 28%|██▊       | 28/100 [40:41<1:44:31, 87.11s/it]"
     ]
    },
    {
     "name": "stdout",
     "output_type": "stream",
     "text": [
      "###### [Epoch: 28 / 100] Train: Epoch loss: 0.08595, Epoch ANP difference: 1.36250\n",
      "###### [Epoch: 28 / 100] Valid: Epoch loss: 0.07414, Epoch ANP difference: 1.95052\n",
      "[Epoch: 29 / 100][   0/ 299] Loss: 0.01400, ANP difference: 1.617312\n"
     ]
    },
    {
     "name": "stderr",
     "output_type": "stream",
     "text": [
      " 29%|██▉       | 29/100 [42:08<1:43:04, 87.11s/it]"
     ]
    },
    {
     "name": "stdout",
     "output_type": "stream",
     "text": [
      "###### [Epoch: 29 / 100] Train: Epoch loss: 0.07775, Epoch ANP difference: 1.39263\n",
      "###### [Epoch: 29 / 100] Valid: Epoch loss: 0.04949, Epoch ANP difference: 1.98504\n",
      "[Epoch: 30 / 100][   0/ 299] Loss: 0.04290, ANP difference: 1.462960\n"
     ]
    },
    {
     "name": "stderr",
     "output_type": "stream",
     "text": [
      " 30%|███       | 30/100 [43:35<1:41:34, 87.07s/it]"
     ]
    },
    {
     "name": "stdout",
     "output_type": "stream",
     "text": [
      "###### [Epoch: 30 / 100] Train: Epoch loss: 0.07152, Epoch ANP difference: 1.37796\n",
      "###### [Epoch: 30 / 100] Valid: Epoch loss: 0.04982, Epoch ANP difference: 1.93672\n",
      "[Epoch: 31 / 100][   0/ 299] Loss: 0.03568, ANP difference: 1.492664\n"
     ]
    },
    {
     "name": "stderr",
     "output_type": "stream",
     "text": [
      " 31%|███       | 31/100 [45:02<1:40:03, 87.01s/it]"
     ]
    },
    {
     "name": "stdout",
     "output_type": "stream",
     "text": [
      "###### [Epoch: 31 / 100] Train: Epoch loss: 0.07389, Epoch ANP difference: 1.38481\n",
      "###### [Epoch: 31 / 100] Valid: Epoch loss: 0.04611, Epoch ANP difference: 2.01405\n",
      "[Epoch: 32 / 100][   0/ 299] Loss: 0.09608, ANP difference: 1.547267\n"
     ]
    },
    {
     "name": "stderr",
     "output_type": "stream",
     "text": [
      " 32%|███▏      | 32/100 [46:30<1:38:51, 87.23s/it]"
     ]
    },
    {
     "name": "stdout",
     "output_type": "stream",
     "text": [
      "###### [Epoch: 32 / 100] Train: Epoch loss: 0.06496, Epoch ANP difference: 1.39303\n",
      "###### [Epoch: 32 / 100] Valid: Epoch loss: 0.03762, Epoch ANP difference: 1.87967\n",
      "[Epoch: 33 / 100][   0/ 299] Loss: 0.20892, ANP difference: 1.154326\n"
     ]
    },
    {
     "name": "stderr",
     "output_type": "stream",
     "text": [
      " 33%|███▎      | 33/100 [47:56<1:37:15, 87.10s/it]"
     ]
    },
    {
     "name": "stdout",
     "output_type": "stream",
     "text": [
      "###### [Epoch: 33 / 100] Train: Epoch loss: 0.06732, Epoch ANP difference: 1.40013\n",
      "###### [Epoch: 33 / 100] Valid: Epoch loss: 0.03954, Epoch ANP difference: 2.13194\n",
      "[Epoch: 34 / 100][   0/ 299] Loss: 0.08593, ANP difference: 1.267356\n"
     ]
    },
    {
     "name": "stderr",
     "output_type": "stream",
     "text": [
      " 34%|███▍      | 34/100 [49:23<1:35:41, 87.00s/it]"
     ]
    },
    {
     "name": "stdout",
     "output_type": "stream",
     "text": [
      "###### [Epoch: 34 / 100] Train: Epoch loss: 0.05628, Epoch ANP difference: 1.48849\n",
      "###### [Epoch: 34 / 100] Valid: Epoch loss: 0.03952, Epoch ANP difference: 2.13198\n",
      "[Epoch: 35 / 100][   0/ 299] Loss: 0.00000, ANP difference: 1.473645\n"
     ]
    },
    {
     "name": "stderr",
     "output_type": "stream",
     "text": [
      " 35%|███▌      | 35/100 [50:49<1:33:50, 86.63s/it]"
     ]
    },
    {
     "name": "stdout",
     "output_type": "stream",
     "text": [
      "###### [Epoch: 35 / 100] Train: Epoch loss: 0.06439, Epoch ANP difference: 1.44072\n",
      "###### [Epoch: 35 / 100] Valid: Epoch loss: 0.05799, Epoch ANP difference: 2.11351\n",
      "[Epoch: 36 / 100][   0/ 299] Loss: 0.03453, ANP difference: 1.449913\n"
     ]
    },
    {
     "name": "stderr",
     "output_type": "stream",
     "text": [
      " 36%|███▌      | 36/100 [52:16<1:32:39, 86.86s/it]"
     ]
    },
    {
     "name": "stdout",
     "output_type": "stream",
     "text": [
      "###### [Epoch: 36 / 100] Train: Epoch loss: 0.06407, Epoch ANP difference: 1.41246\n",
      "###### [Epoch: 36 / 100] Valid: Epoch loss: 0.04514, Epoch ANP difference: 2.01343\n",
      "[Epoch: 37 / 100][   0/ 299] Loss: 0.04324, ANP difference: 1.481463\n"
     ]
    },
    {
     "name": "stderr",
     "output_type": "stream",
     "text": [
      " 37%|███▋      | 37/100 [53:43<1:31:16, 86.93s/it]"
     ]
    },
    {
     "name": "stdout",
     "output_type": "stream",
     "text": [
      "###### [Epoch: 37 / 100] Train: Epoch loss: 0.05087, Epoch ANP difference: 1.48828\n",
      "###### [Epoch: 37 / 100] Valid: Epoch loss: 0.02612, Epoch ANP difference: 2.17207\n",
      "[Epoch: 38 / 100][   0/ 299] Loss: 0.00000, ANP difference: 1.501370\n"
     ]
    },
    {
     "name": "stderr",
     "output_type": "stream",
     "text": [
      " 38%|███▊      | 38/100 [55:10<1:29:46, 86.88s/it]"
     ]
    },
    {
     "name": "stdout",
     "output_type": "stream",
     "text": [
      "###### [Epoch: 38 / 100] Train: Epoch loss: 0.05654, Epoch ANP difference: 1.47148\n",
      "###### [Epoch: 38 / 100] Valid: Epoch loss: 0.05283, Epoch ANP difference: 1.99431\n",
      "[Epoch: 39 / 100][   0/ 299] Loss: 0.06245, ANP difference: 1.465776\n"
     ]
    },
    {
     "name": "stderr",
     "output_type": "stream",
     "text": [
      " 39%|███▉      | 39/100 [56:37<1:28:13, 86.78s/it]"
     ]
    },
    {
     "name": "stdout",
     "output_type": "stream",
     "text": [
      "###### [Epoch: 39 / 100] Train: Epoch loss: 0.04751, Epoch ANP difference: 1.51085\n",
      "###### [Epoch: 39 / 100] Valid: Epoch loss: 0.03104, Epoch ANP difference: 2.17090\n",
      "[Epoch: 40 / 100][   0/ 299] Loss: 0.00000, ANP difference: 1.705124\n"
     ]
    },
    {
     "name": "stderr",
     "output_type": "stream",
     "text": [
      " 40%|████      | 40/100 [58:03<1:26:41, 86.69s/it]"
     ]
    },
    {
     "name": "stdout",
     "output_type": "stream",
     "text": [
      "###### [Epoch: 40 / 100] Train: Epoch loss: 0.05759, Epoch ANP difference: 1.50102\n",
      "###### [Epoch: 40 / 100] Valid: Epoch loss: 0.03742, Epoch ANP difference: 2.05994\n",
      "[Epoch: 41 / 100][   0/ 299] Loss: 0.00000, ANP difference: 1.966783\n"
     ]
    },
    {
     "name": "stderr",
     "output_type": "stream",
     "text": [
      " 41%|████      | 41/100 [59:30<1:25:12, 86.65s/it]"
     ]
    },
    {
     "name": "stdout",
     "output_type": "stream",
     "text": [
      "###### [Epoch: 41 / 100] Train: Epoch loss: 0.06196, Epoch ANP difference: 1.49553\n",
      "###### [Epoch: 41 / 100] Valid: Epoch loss: 0.04126, Epoch ANP difference: 2.00389\n",
      "[Epoch: 42 / 100][   0/ 299] Loss: 0.05828, ANP difference: 1.207990\n"
     ]
    },
    {
     "name": "stderr",
     "output_type": "stream",
     "text": [
      " 42%|████▏     | 42/100 [1:00:57<1:23:53, 86.79s/it]"
     ]
    },
    {
     "name": "stdout",
     "output_type": "stream",
     "text": [
      "###### [Epoch: 42 / 100] Train: Epoch loss: 0.05442, Epoch ANP difference: 1.47717\n",
      "###### [Epoch: 42 / 100] Valid: Epoch loss: 0.02144, Epoch ANP difference: 2.00257\n",
      "[Epoch: 43 / 100][   0/ 299] Loss: 0.00121, ANP difference: 1.671041\n"
     ]
    },
    {
     "name": "stderr",
     "output_type": "stream",
     "text": [
      " 43%|████▎     | 43/100 [1:02:24<1:22:34, 86.92s/it]"
     ]
    },
    {
     "name": "stdout",
     "output_type": "stream",
     "text": [
      "###### [Epoch: 43 / 100] Train: Epoch loss: 0.05255, Epoch ANP difference: 1.47623\n",
      "###### [Epoch: 43 / 100] Valid: Epoch loss: 0.02624, Epoch ANP difference: 2.01029\n",
      "[Epoch: 44 / 100][   0/ 299] Loss: 0.03232, ANP difference: 1.383904\n"
     ]
    },
    {
     "name": "stderr",
     "output_type": "stream",
     "text": [
      " 44%|████▍     | 44/100 [1:03:50<1:20:57, 86.74s/it]"
     ]
    },
    {
     "name": "stdout",
     "output_type": "stream",
     "text": [
      "###### [Epoch: 44 / 100] Train: Epoch loss: 0.04812, Epoch ANP difference: 1.50586\n",
      "###### [Epoch: 44 / 100] Valid: Epoch loss: 0.01874, Epoch ANP difference: 2.13927\n",
      "[Epoch: 45 / 100][   0/ 299] Loss: 0.00000, ANP difference: 1.980882\n"
     ]
    },
    {
     "name": "stderr",
     "output_type": "stream",
     "text": [
      " 45%|████▌     | 45/100 [1:05:16<1:19:17, 86.50s/it]"
     ]
    },
    {
     "name": "stdout",
     "output_type": "stream",
     "text": [
      "###### [Epoch: 45 / 100] Train: Epoch loss: 0.04623, Epoch ANP difference: 1.52311\n",
      "###### [Epoch: 45 / 100] Valid: Epoch loss: 0.02094, Epoch ANP difference: 2.13989\n",
      "[Epoch: 46 / 100][   0/ 299] Loss: 0.02408, ANP difference: 1.555597\n"
     ]
    },
    {
     "name": "stderr",
     "output_type": "stream",
     "text": [
      " 46%|████▌     | 46/100 [1:06:43<1:17:57, 86.62s/it]"
     ]
    },
    {
     "name": "stdout",
     "output_type": "stream",
     "text": [
      "###### [Epoch: 46 / 100] Train: Epoch loss: 0.04632, Epoch ANP difference: 1.53994\n",
      "###### [Epoch: 46 / 100] Valid: Epoch loss: 0.04090, Epoch ANP difference: 2.12874\n",
      "[Epoch: 47 / 100][   0/ 299] Loss: 0.00000, ANP difference: 1.625646\n"
     ]
    },
    {
     "name": "stderr",
     "output_type": "stream",
     "text": [
      " 47%|████▋     | 47/100 [1:08:09<1:16:22, 86.47s/it]"
     ]
    },
    {
     "name": "stdout",
     "output_type": "stream",
     "text": [
      "###### [Epoch: 47 / 100] Train: Epoch loss: 0.04431, Epoch ANP difference: 1.55559\n",
      "###### [Epoch: 47 / 100] Valid: Epoch loss: 0.03580, Epoch ANP difference: 2.09933\n",
      "[Epoch: 48 / 100][   0/ 299] Loss: 0.00000, ANP difference: 1.599224\n"
     ]
    },
    {
     "name": "stderr",
     "output_type": "stream",
     "text": [
      " 48%|████▊     | 48/100 [1:09:36<1:14:52, 86.39s/it]"
     ]
    },
    {
     "name": "stdout",
     "output_type": "stream",
     "text": [
      "###### [Epoch: 48 / 100] Train: Epoch loss: 0.05079, Epoch ANP difference: 1.51386\n",
      "###### [Epoch: 48 / 100] Valid: Epoch loss: 0.04359, Epoch ANP difference: 2.11713\n",
      "[Epoch: 49 / 100][   0/ 299] Loss: 0.05363, ANP difference: 1.498548\n"
     ]
    },
    {
     "name": "stderr",
     "output_type": "stream",
     "text": [
      " 49%|████▉     | 49/100 [1:11:02<1:13:25, 86.39s/it]"
     ]
    },
    {
     "name": "stdout",
     "output_type": "stream",
     "text": [
      "###### [Epoch: 49 / 100] Train: Epoch loss: 0.04206, Epoch ANP difference: 1.54308\n",
      "###### [Epoch: 49 / 100] Valid: Epoch loss: 0.01589, Epoch ANP difference: 2.16200\n",
      "[Epoch: 50 / 100][   0/ 299] Loss: 0.02290, ANP difference: 1.408090\n"
     ]
    },
    {
     "name": "stderr",
     "output_type": "stream",
     "text": [
      " 50%|█████     | 50/100 [1:12:28<1:11:56, 86.34s/it]"
     ]
    },
    {
     "name": "stdout",
     "output_type": "stream",
     "text": [
      "###### [Epoch: 50 / 100] Train: Epoch loss: 0.03953, Epoch ANP difference: 1.58124\n",
      "###### [Epoch: 50 / 100] Valid: Epoch loss: 0.01733, Epoch ANP difference: 2.16361\n",
      "[Epoch: 51 / 100][   0/ 299] Loss: 0.07434, ANP difference: 1.721650\n"
     ]
    },
    {
     "name": "stderr",
     "output_type": "stream",
     "text": [
      " 51%|█████     | 51/100 [1:13:55<1:10:36, 86.45s/it]"
     ]
    },
    {
     "name": "stdout",
     "output_type": "stream",
     "text": [
      "###### [Epoch: 51 / 100] Train: Epoch loss: 0.03946, Epoch ANP difference: 1.57969\n",
      "###### [Epoch: 51 / 100] Valid: Epoch loss: 0.02294, Epoch ANP difference: 2.14349\n",
      "[Epoch: 52 / 100][   0/ 299] Loss: 0.03218, ANP difference: 1.548673\n"
     ]
    },
    {
     "name": "stderr",
     "output_type": "stream",
     "text": [
      " 52%|█████▏    | 52/100 [1:15:22<1:09:20, 86.67s/it]"
     ]
    },
    {
     "name": "stdout",
     "output_type": "stream",
     "text": [
      "###### [Epoch: 52 / 100] Train: Epoch loss: 0.03463, Epoch ANP difference: 1.61282\n",
      "###### [Epoch: 52 / 100] Valid: Epoch loss: 0.01594, Epoch ANP difference: 2.28043\n",
      "[Epoch: 53 / 100][   0/ 299] Loss: 0.02236, ANP difference: 1.694731\n"
     ]
    },
    {
     "name": "stderr",
     "output_type": "stream",
     "text": [
      " 53%|█████▎    | 53/100 [1:16:49<1:07:53, 86.68s/it]"
     ]
    },
    {
     "name": "stdout",
     "output_type": "stream",
     "text": [
      "###### [Epoch: 53 / 100] Train: Epoch loss: 0.03445, Epoch ANP difference: 1.65708\n",
      "###### [Epoch: 53 / 100] Valid: Epoch loss: 0.02618, Epoch ANP difference: 2.23484\n",
      "[Epoch: 54 / 100][   0/ 299] Loss: 0.00000, ANP difference: 1.637166\n"
     ]
    },
    {
     "name": "stderr",
     "output_type": "stream",
     "text": [
      " 54%|█████▍    | 54/100 [1:18:16<1:06:33, 86.82s/it]"
     ]
    },
    {
     "name": "stdout",
     "output_type": "stream",
     "text": [
      "###### [Epoch: 54 / 100] Train: Epoch loss: 0.03746, Epoch ANP difference: 1.61587\n",
      "###### [Epoch: 54 / 100] Valid: Epoch loss: 0.04347, Epoch ANP difference: 2.19547\n",
      "[Epoch: 55 / 100][   0/ 299] Loss: 0.00567, ANP difference: 1.585221\n"
     ]
    },
    {
     "name": "stderr",
     "output_type": "stream",
     "text": [
      " 55%|█████▌    | 55/100 [1:19:43<1:05:11, 86.92s/it]"
     ]
    },
    {
     "name": "stdout",
     "output_type": "stream",
     "text": [
      "###### [Epoch: 55 / 100] Train: Epoch loss: 0.04104, Epoch ANP difference: 1.61407\n",
      "###### [Epoch: 55 / 100] Valid: Epoch loss: 0.00771, Epoch ANP difference: 2.23842\n",
      "[Epoch: 56 / 100][   0/ 299] Loss: 0.01641, ANP difference: 1.413574\n"
     ]
    },
    {
     "name": "stderr",
     "output_type": "stream",
     "text": [
      " 56%|█████▌    | 56/100 [1:21:10<1:03:38, 86.79s/it]"
     ]
    },
    {
     "name": "stdout",
     "output_type": "stream",
     "text": [
      "###### [Epoch: 56 / 100] Train: Epoch loss: 0.04149, Epoch ANP difference: 1.55902\n",
      "###### [Epoch: 56 / 100] Valid: Epoch loss: 0.02118, Epoch ANP difference: 2.10989\n",
      "[Epoch: 57 / 100][   0/ 299] Loss: 0.00000, ANP difference: 1.923885\n"
     ]
    },
    {
     "name": "stderr",
     "output_type": "stream",
     "text": [
      " 57%|█████▋    | 57/100 [1:22:37<1:02:20, 86.99s/it]"
     ]
    },
    {
     "name": "stdout",
     "output_type": "stream",
     "text": [
      "###### [Epoch: 57 / 100] Train: Epoch loss: 0.03708, Epoch ANP difference: 1.57962\n",
      "###### [Epoch: 57 / 100] Valid: Epoch loss: 0.01701, Epoch ANP difference: 2.20562\n",
      "[Epoch: 58 / 100][   0/ 299] Loss: 0.07809, ANP difference: 1.624611\n"
     ]
    },
    {
     "name": "stderr",
     "output_type": "stream",
     "text": [
      " 58%|█████▊    | 58/100 [1:24:04<1:00:56, 87.06s/it]"
     ]
    },
    {
     "name": "stdout",
     "output_type": "stream",
     "text": [
      "###### [Epoch: 58 / 100] Train: Epoch loss: 0.04007, Epoch ANP difference: 1.61864\n",
      "###### [Epoch: 58 / 100] Valid: Epoch loss: 0.01909, Epoch ANP difference: 2.12804\n",
      "[Epoch: 59 / 100][   0/ 299] Loss: 0.01150, ANP difference: 1.805672\n"
     ]
    },
    {
     "name": "stderr",
     "output_type": "stream",
     "text": [
      " 59%|█████▉    | 59/100 [1:25:32<59:31, 87.11s/it]  "
     ]
    },
    {
     "name": "stdout",
     "output_type": "stream",
     "text": [
      "###### [Epoch: 59 / 100] Train: Epoch loss: 0.03489, Epoch ANP difference: 1.61079\n",
      "###### [Epoch: 59 / 100] Valid: Epoch loss: 0.02147, Epoch ANP difference: 2.10378\n",
      "[Epoch: 60 / 100][   0/ 299] Loss: 0.02602, ANP difference: 1.650343\n"
     ]
    },
    {
     "name": "stderr",
     "output_type": "stream",
     "text": [
      " 60%|██████    | 60/100 [1:26:58<57:50, 86.77s/it]"
     ]
    },
    {
     "name": "stdout",
     "output_type": "stream",
     "text": [
      "###### [Epoch: 60 / 100] Train: Epoch loss: 0.02897, Epoch ANP difference: 1.60455\n",
      "###### [Epoch: 60 / 100] Valid: Epoch loss: 0.01597, Epoch ANP difference: 2.26811\n",
      "[Epoch: 61 / 100][   0/ 299] Loss: 0.01685, ANP difference: 1.941511\n"
     ]
    },
    {
     "name": "stderr",
     "output_type": "stream",
     "text": [
      " 61%|██████    | 61/100 [1:28:25<56:35, 87.05s/it]"
     ]
    },
    {
     "name": "stdout",
     "output_type": "stream",
     "text": [
      "###### [Epoch: 61 / 100] Train: Epoch loss: 0.03467, Epoch ANP difference: 1.62237\n",
      "###### [Epoch: 61 / 100] Valid: Epoch loss: 0.01379, Epoch ANP difference: 2.08239\n",
      "[Epoch: 62 / 100][   0/ 299] Loss: 0.11481, ANP difference: 1.570172\n"
     ]
    },
    {
     "name": "stderr",
     "output_type": "stream",
     "text": [
      " 62%|██████▏   | 62/100 [1:29:51<54:59, 86.82s/it]"
     ]
    },
    {
     "name": "stdout",
     "output_type": "stream",
     "text": [
      "###### [Epoch: 62 / 100] Train: Epoch loss: 0.03110, Epoch ANP difference: 1.65827\n",
      "###### [Epoch: 62 / 100] Valid: Epoch loss: 0.01146, Epoch ANP difference: 2.26291\n",
      "[Epoch: 63 / 100][   0/ 299] Loss: 0.03298, ANP difference: 1.719033\n"
     ]
    },
    {
     "name": "stderr",
     "output_type": "stream",
     "text": [
      " 63%|██████▎   | 63/100 [1:31:17<53:18, 86.44s/it]"
     ]
    },
    {
     "name": "stdout",
     "output_type": "stream",
     "text": [
      "###### [Epoch: 63 / 100] Train: Epoch loss: 0.03649, Epoch ANP difference: 1.64711\n",
      "###### [Epoch: 63 / 100] Valid: Epoch loss: 0.01800, Epoch ANP difference: 2.18478\n",
      "[Epoch: 64 / 100][   0/ 299] Loss: 0.00865, ANP difference: 1.746375\n"
     ]
    },
    {
     "name": "stderr",
     "output_type": "stream",
     "text": [
      " 64%|██████▍   | 64/100 [1:32:44<51:54, 86.53s/it]"
     ]
    },
    {
     "name": "stdout",
     "output_type": "stream",
     "text": [
      "###### [Epoch: 64 / 100] Train: Epoch loss: 0.03383, Epoch ANP difference: 1.58773\n",
      "###### [Epoch: 64 / 100] Valid: Epoch loss: 0.01851, Epoch ANP difference: 2.24022\n",
      "[Epoch: 65 / 100][   0/ 299] Loss: 0.06365, ANP difference: 1.792957\n"
     ]
    },
    {
     "name": "stderr",
     "output_type": "stream",
     "text": [
      " 65%|██████▌   | 65/100 [1:34:11<50:35, 86.74s/it]"
     ]
    },
    {
     "name": "stdout",
     "output_type": "stream",
     "text": [
      "###### [Epoch: 65 / 100] Train: Epoch loss: 0.02869, Epoch ANP difference: 1.66227\n",
      "###### [Epoch: 65 / 100] Valid: Epoch loss: 0.01447, Epoch ANP difference: 2.28907\n",
      "[Epoch: 66 / 100][   0/ 299] Loss: 0.00000, ANP difference: 1.641059\n"
     ]
    },
    {
     "name": "stderr",
     "output_type": "stream",
     "text": [
      " 66%|██████▌   | 66/100 [1:35:39<49:17, 86.99s/it]"
     ]
    },
    {
     "name": "stdout",
     "output_type": "stream",
     "text": [
      "###### [Epoch: 66 / 100] Train: Epoch loss: 0.02720, Epoch ANP difference: 1.72226\n",
      "###### [Epoch: 66 / 100] Valid: Epoch loss: 0.03038, Epoch ANP difference: 2.21415\n",
      "[Epoch: 67 / 100][   0/ 299] Loss: 0.01218, ANP difference: 1.688407\n"
     ]
    },
    {
     "name": "stderr",
     "output_type": "stream",
     "text": [
      " 67%|██████▋   | 67/100 [1:37:06<47:50, 86.98s/it]"
     ]
    },
    {
     "name": "stdout",
     "output_type": "stream",
     "text": [
      "###### [Epoch: 67 / 100] Train: Epoch loss: 0.02693, Epoch ANP difference: 1.67143\n",
      "###### [Epoch: 67 / 100] Valid: Epoch loss: 0.01143, Epoch ANP difference: 2.18222\n",
      "[Epoch: 68 / 100][   0/ 299] Loss: 0.00000, ANP difference: 1.888322\n"
     ]
    },
    {
     "name": "stderr",
     "output_type": "stream",
     "text": [
      " 68%|██████▊   | 68/100 [1:38:32<46:15, 86.73s/it]"
     ]
    },
    {
     "name": "stdout",
     "output_type": "stream",
     "text": [
      "###### [Epoch: 68 / 100] Train: Epoch loss: 0.02456, Epoch ANP difference: 1.65199\n",
      "###### [Epoch: 68 / 100] Valid: Epoch loss: 0.01204, Epoch ANP difference: 2.15509\n",
      "[Epoch: 69 / 100][   0/ 299] Loss: 0.02233, ANP difference: 1.399505\n"
     ]
    },
    {
     "name": "stderr",
     "output_type": "stream",
     "text": [
      " 69%|██████▉   | 69/100 [1:39:58<44:48, 86.72s/it]"
     ]
    },
    {
     "name": "stdout",
     "output_type": "stream",
     "text": [
      "###### [Epoch: 69 / 100] Train: Epoch loss: 0.02469, Epoch ANP difference: 1.70953\n",
      "###### [Epoch: 69 / 100] Valid: Epoch loss: 0.01866, Epoch ANP difference: 2.16537\n",
      "[Epoch: 70 / 100][   0/ 299] Loss: 0.00000, ANP difference: 2.129947\n"
     ]
    },
    {
     "name": "stderr",
     "output_type": "stream",
     "text": [
      " 70%|███████   | 70/100 [1:41:26<43:25, 86.85s/it]"
     ]
    },
    {
     "name": "stdout",
     "output_type": "stream",
     "text": [
      "###### [Epoch: 70 / 100] Train: Epoch loss: 0.02860, Epoch ANP difference: 1.70775\n",
      "###### [Epoch: 70 / 100] Valid: Epoch loss: 0.01544, Epoch ANP difference: 2.31663\n",
      "[Epoch: 71 / 100][   0/ 299] Loss: 0.09137, ANP difference: 1.704126\n"
     ]
    },
    {
     "name": "stderr",
     "output_type": "stream",
     "text": [
      " 71%|███████   | 71/100 [1:42:52<41:54, 86.72s/it]"
     ]
    },
    {
     "name": "stdout",
     "output_type": "stream",
     "text": [
      "###### [Epoch: 71 / 100] Train: Epoch loss: 0.02710, Epoch ANP difference: 1.67095\n",
      "###### [Epoch: 71 / 100] Valid: Epoch loss: 0.02096, Epoch ANP difference: 2.22970\n",
      "[Epoch: 72 / 100][   0/ 299] Loss: 0.00000, ANP difference: 1.512791\n"
     ]
    },
    {
     "name": "stderr",
     "output_type": "stream",
     "text": [
      " 72%|███████▏  | 72/100 [1:44:19<40:27, 86.68s/it]"
     ]
    },
    {
     "name": "stdout",
     "output_type": "stream",
     "text": [
      "###### [Epoch: 72 / 100] Train: Epoch loss: 0.02872, Epoch ANP difference: 1.72568\n",
      "###### [Epoch: 72 / 100] Valid: Epoch loss: 0.01280, Epoch ANP difference: 2.31419\n",
      "[Epoch: 73 / 100][   0/ 299] Loss: 0.00000, ANP difference: 1.930532\n"
     ]
    },
    {
     "name": "stderr",
     "output_type": "stream",
     "text": [
      " 73%|███████▎  | 73/100 [1:45:45<38:59, 86.65s/it]"
     ]
    },
    {
     "name": "stdout",
     "output_type": "stream",
     "text": [
      "###### [Epoch: 73 / 100] Train: Epoch loss: 0.02581, Epoch ANP difference: 1.70123\n",
      "###### [Epoch: 73 / 100] Valid: Epoch loss: 0.00990, Epoch ANP difference: 2.22059\n",
      "[Epoch: 74 / 100][   0/ 299] Loss: 0.00862, ANP difference: 1.607339\n"
     ]
    },
    {
     "name": "stderr",
     "output_type": "stream",
     "text": [
      " 74%|███████▍  | 74/100 [1:47:11<37:29, 86.51s/it]"
     ]
    },
    {
     "name": "stdout",
     "output_type": "stream",
     "text": [
      "###### [Epoch: 74 / 100] Train: Epoch loss: 0.02240, Epoch ANP difference: 1.72373\n",
      "###### [Epoch: 74 / 100] Valid: Epoch loss: 0.01769, Epoch ANP difference: 2.24280\n",
      "[Epoch: 75 / 100][   0/ 299] Loss: 0.00000, ANP difference: 1.562999\n"
     ]
    },
    {
     "name": "stderr",
     "output_type": "stream",
     "text": [
      " 75%|███████▌  | 75/100 [1:48:37<35:58, 86.35s/it]"
     ]
    },
    {
     "name": "stdout",
     "output_type": "stream",
     "text": [
      "###### [Epoch: 75 / 100] Train: Epoch loss: 0.02372, Epoch ANP difference: 1.76398\n",
      "###### [Epoch: 75 / 100] Valid: Epoch loss: 0.00977, Epoch ANP difference: 2.25530\n",
      "[Epoch: 76 / 100][   0/ 299] Loss: 0.00161, ANP difference: 1.692631\n"
     ]
    },
    {
     "name": "stderr",
     "output_type": "stream",
     "text": [
      " 76%|███████▌  | 76/100 [1:50:04<34:37, 86.56s/it]"
     ]
    },
    {
     "name": "stdout",
     "output_type": "stream",
     "text": [
      "###### [Epoch: 76 / 100] Train: Epoch loss: 0.02060, Epoch ANP difference: 1.77346\n",
      "###### [Epoch: 76 / 100] Valid: Epoch loss: 0.01553, Epoch ANP difference: 2.31721\n",
      "[Epoch: 77 / 100][   0/ 299] Loss: 0.01941, ANP difference: 1.640946\n"
     ]
    },
    {
     "name": "stderr",
     "output_type": "stream",
     "text": [
      " 77%|███████▋  | 77/100 [1:51:31<33:09, 86.49s/it]"
     ]
    },
    {
     "name": "stdout",
     "output_type": "stream",
     "text": [
      "###### [Epoch: 77 / 100] Train: Epoch loss: 0.02577, Epoch ANP difference: 1.78187\n",
      "###### [Epoch: 77 / 100] Valid: Epoch loss: 0.01365, Epoch ANP difference: 2.33027\n",
      "[Epoch: 78 / 100][   0/ 299] Loss: 0.00000, ANP difference: 1.531265\n"
     ]
    },
    {
     "name": "stderr",
     "output_type": "stream",
     "text": [
      " 78%|███████▊  | 78/100 [1:52:58<31:49, 86.78s/it]"
     ]
    },
    {
     "name": "stdout",
     "output_type": "stream",
     "text": [
      "###### [Epoch: 78 / 100] Train: Epoch loss: 0.02477, Epoch ANP difference: 1.69509\n",
      "###### [Epoch: 78 / 100] Valid: Epoch loss: 0.00612, Epoch ANP difference: 2.15815\n",
      "[Epoch: 79 / 100][   0/ 299] Loss: 0.11036, ANP difference: 1.070401\n"
     ]
    },
    {
     "name": "stderr",
     "output_type": "stream",
     "text": [
      " 79%|███████▉  | 79/100 [1:54:24<30:19, 86.64s/it]"
     ]
    },
    {
     "name": "stdout",
     "output_type": "stream",
     "text": [
      "###### [Epoch: 79 / 100] Train: Epoch loss: 0.02810, Epoch ANP difference: 1.70362\n",
      "###### [Epoch: 79 / 100] Valid: Epoch loss: 0.02001, Epoch ANP difference: 2.27376\n",
      "[Epoch: 80 / 100][   0/ 299] Loss: 0.00000, ANP difference: 1.779807\n"
     ]
    },
    {
     "name": "stderr",
     "output_type": "stream",
     "text": [
      " 80%|████████  | 80/100 [1:55:50<28:48, 86.42s/it]"
     ]
    },
    {
     "name": "stdout",
     "output_type": "stream",
     "text": [
      "###### [Epoch: 80 / 100] Train: Epoch loss: 0.02526, Epoch ANP difference: 1.75214\n",
      "###### [Epoch: 80 / 100] Valid: Epoch loss: 0.01388, Epoch ANP difference: 2.20918\n",
      "[Epoch: 81 / 100][   0/ 299] Loss: 0.00233, ANP difference: 1.704463\n"
     ]
    },
    {
     "name": "stderr",
     "output_type": "stream",
     "text": [
      " 81%|████████  | 81/100 [1:57:17<27:23, 86.49s/it]"
     ]
    },
    {
     "name": "stdout",
     "output_type": "stream",
     "text": [
      "###### [Epoch: 81 / 100] Train: Epoch loss: 0.02472, Epoch ANP difference: 1.69532\n",
      "###### [Epoch: 81 / 100] Valid: Epoch loss: 0.01336, Epoch ANP difference: 2.15335\n",
      "[Epoch: 82 / 100][   0/ 299] Loss: 0.00000, ANP difference: 1.919832\n"
     ]
    },
    {
     "name": "stderr",
     "output_type": "stream",
     "text": [
      " 82%|████████▏ | 82/100 [1:58:44<25:59, 86.62s/it]"
     ]
    },
    {
     "name": "stdout",
     "output_type": "stream",
     "text": [
      "###### [Epoch: 82 / 100] Train: Epoch loss: 0.02508, Epoch ANP difference: 1.75277\n",
      "###### [Epoch: 82 / 100] Valid: Epoch loss: 0.00882, Epoch ANP difference: 2.36488\n",
      "[Epoch: 83 / 100][   0/ 299] Loss: 0.01815, ANP difference: 1.708584\n"
     ]
    },
    {
     "name": "stderr",
     "output_type": "stream",
     "text": [
      " 83%|████████▎ | 83/100 [2:00:11<24:34, 86.74s/it]"
     ]
    },
    {
     "name": "stdout",
     "output_type": "stream",
     "text": [
      "###### [Epoch: 83 / 100] Train: Epoch loss: 0.02352, Epoch ANP difference: 1.80685\n",
      "###### [Epoch: 83 / 100] Valid: Epoch loss: 0.01532, Epoch ANP difference: 2.30320\n",
      "[Epoch: 84 / 100][   0/ 299] Loss: 0.01582, ANP difference: 1.931873\n"
     ]
    },
    {
     "name": "stderr",
     "output_type": "stream",
     "text": [
      " 84%|████████▍ | 84/100 [2:01:37<23:06, 86.63s/it]"
     ]
    },
    {
     "name": "stdout",
     "output_type": "stream",
     "text": [
      "###### [Epoch: 84 / 100] Train: Epoch loss: 0.01841, Epoch ANP difference: 1.82690\n",
      "###### [Epoch: 84 / 100] Valid: Epoch loss: 0.00404, Epoch ANP difference: 2.38199\n",
      "[Epoch: 85 / 100][   0/ 299] Loss: 0.00000, ANP difference: 1.909053\n"
     ]
    },
    {
     "name": "stderr",
     "output_type": "stream",
     "text": [
      " 85%|████████▌ | 85/100 [2:03:05<21:43, 86.89s/it]"
     ]
    },
    {
     "name": "stdout",
     "output_type": "stream",
     "text": [
      "###### [Epoch: 85 / 100] Train: Epoch loss: 0.02592, Epoch ANP difference: 1.72854\n",
      "###### [Epoch: 85 / 100] Valid: Epoch loss: 0.01324, Epoch ANP difference: 2.24396\n",
      "[Epoch: 86 / 100][   0/ 299] Loss: 0.00000, ANP difference: 1.476670\n"
     ]
    },
    {
     "name": "stderr",
     "output_type": "stream",
     "text": [
      " 86%|████████▌ | 86/100 [2:04:31<20:14, 86.74s/it]"
     ]
    },
    {
     "name": "stdout",
     "output_type": "stream",
     "text": [
      "###### [Epoch: 86 / 100] Train: Epoch loss: 0.02576, Epoch ANP difference: 1.74756\n",
      "###### [Epoch: 86 / 100] Valid: Epoch loss: 0.01536, Epoch ANP difference: 2.10697\n",
      "[Epoch: 87 / 100][   0/ 299] Loss: 0.00552, ANP difference: 1.386731\n"
     ]
    },
    {
     "name": "stderr",
     "output_type": "stream",
     "text": [
      " 87%|████████▋ | 87/100 [2:05:57<18:44, 86.52s/it]"
     ]
    },
    {
     "name": "stdout",
     "output_type": "stream",
     "text": [
      "###### [Epoch: 87 / 100] Train: Epoch loss: 0.01828, Epoch ANP difference: 1.74334\n",
      "###### [Epoch: 87 / 100] Valid: Epoch loss: 0.00354, Epoch ANP difference: 2.35974\n",
      "[Epoch: 88 / 100][   0/ 299] Loss: 0.02286, ANP difference: 1.493968\n"
     ]
    },
    {
     "name": "stderr",
     "output_type": "stream",
     "text": [
      " 88%|████████▊ | 88/100 [2:07:24<17:19, 86.63s/it]"
     ]
    },
    {
     "name": "stdout",
     "output_type": "stream",
     "text": [
      "###### [Epoch: 88 / 100] Train: Epoch loss: 0.02021, Epoch ANP difference: 1.77307\n",
      "###### [Epoch: 88 / 100] Valid: Epoch loss: 0.01486, Epoch ANP difference: 2.41986\n",
      "[Epoch: 89 / 100][   0/ 299] Loss: 0.00000, ANP difference: 2.269575\n"
     ]
    },
    {
     "name": "stderr",
     "output_type": "stream",
     "text": [
      " 89%|████████▉ | 89/100 [2:08:50<15:51, 86.54s/it]"
     ]
    },
    {
     "name": "stdout",
     "output_type": "stream",
     "text": [
      "###### [Epoch: 89 / 100] Train: Epoch loss: 0.02034, Epoch ANP difference: 1.81959\n",
      "###### [Epoch: 89 / 100] Valid: Epoch loss: 0.02193, Epoch ANP difference: 2.32793\n",
      "[Epoch: 90 / 100][   0/ 299] Loss: 0.00000, ANP difference: 2.141809\n"
     ]
    },
    {
     "name": "stderr",
     "output_type": "stream",
     "text": [
      " 90%|█████████ | 90/100 [2:10:17<14:25, 86.51s/it]"
     ]
    },
    {
     "name": "stdout",
     "output_type": "stream",
     "text": [
      "###### [Epoch: 90 / 100] Train: Epoch loss: 0.02454, Epoch ANP difference: 1.77929\n",
      "###### [Epoch: 90 / 100] Valid: Epoch loss: 0.01083, Epoch ANP difference: 2.28886\n",
      "[Epoch: 91 / 100][   0/ 299] Loss: 0.00719, ANP difference: 1.457382\n"
     ]
    },
    {
     "name": "stderr",
     "output_type": "stream",
     "text": [
      " 91%|█████████ | 91/100 [2:11:43<12:57, 86.36s/it]"
     ]
    },
    {
     "name": "stdout",
     "output_type": "stream",
     "text": [
      "###### [Epoch: 91 / 100] Train: Epoch loss: 0.02528, Epoch ANP difference: 1.75808\n",
      "###### [Epoch: 91 / 100] Valid: Epoch loss: 0.01123, Epoch ANP difference: 2.20798\n",
      "[Epoch: 92 / 100][   0/ 299] Loss: 0.00972, ANP difference: 1.644491\n"
     ]
    },
    {
     "name": "stderr",
     "output_type": "stream",
     "text": [
      " 92%|█████████▏| 92/100 [2:13:09<11:30, 86.36s/it]"
     ]
    },
    {
     "name": "stdout",
     "output_type": "stream",
     "text": [
      "###### [Epoch: 92 / 100] Train: Epoch loss: 0.02504, Epoch ANP difference: 1.71911\n",
      "###### [Epoch: 92 / 100] Valid: Epoch loss: 0.00954, Epoch ANP difference: 2.25745\n",
      "[Epoch: 93 / 100][   0/ 299] Loss: 0.00239, ANP difference: 2.054241\n"
     ]
    },
    {
     "name": "stderr",
     "output_type": "stream",
     "text": [
      " 93%|█████████▎| 93/100 [2:14:36<10:05, 86.54s/it]"
     ]
    },
    {
     "name": "stdout",
     "output_type": "stream",
     "text": [
      "###### [Epoch: 93 / 100] Train: Epoch loss: 0.01976, Epoch ANP difference: 1.77782\n",
      "###### [Epoch: 93 / 100] Valid: Epoch loss: 0.01069, Epoch ANP difference: 2.34827\n",
      "[Epoch: 94 / 100][   0/ 299] Loss: 0.01656, ANP difference: 1.525746\n"
     ]
    },
    {
     "name": "stderr",
     "output_type": "stream",
     "text": [
      " 94%|█████████▍| 94/100 [2:16:03<08:39, 86.63s/it]"
     ]
    },
    {
     "name": "stdout",
     "output_type": "stream",
     "text": [
      "###### [Epoch: 94 / 100] Train: Epoch loss: 0.02146, Epoch ANP difference: 1.79899\n",
      "###### [Epoch: 94 / 100] Valid: Epoch loss: 0.00808, Epoch ANP difference: 2.37972\n",
      "[Epoch: 95 / 100][   0/ 299] Loss: 0.00000, ANP difference: 2.168313\n"
     ]
    },
    {
     "name": "stderr",
     "output_type": "stream",
     "text": [
      " 95%|█████████▌| 95/100 [2:17:30<07:13, 86.65s/it]"
     ]
    },
    {
     "name": "stdout",
     "output_type": "stream",
     "text": [
      "###### [Epoch: 95 / 100] Train: Epoch loss: 0.02048, Epoch ANP difference: 1.80701\n",
      "###### [Epoch: 95 / 100] Valid: Epoch loss: 0.01452, Epoch ANP difference: 2.30460\n",
      "[Epoch: 96 / 100][   0/ 299] Loss: 0.00000, ANP difference: 2.059780\n"
     ]
    },
    {
     "name": "stderr",
     "output_type": "stream",
     "text": [
      " 96%|█████████▌| 96/100 [2:18:56<05:45, 86.42s/it]"
     ]
    },
    {
     "name": "stdout",
     "output_type": "stream",
     "text": [
      "###### [Epoch: 96 / 100] Train: Epoch loss: 0.01949, Epoch ANP difference: 1.82779\n",
      "###### [Epoch: 96 / 100] Valid: Epoch loss: 0.00488, Epoch ANP difference: 2.30662\n",
      "[Epoch: 97 / 100][   0/ 299] Loss: 0.02179, ANP difference: 2.096426\n"
     ]
    },
    {
     "name": "stderr",
     "output_type": "stream",
     "text": [
      " 97%|█████████▋| 97/100 [2:20:22<04:19, 86.35s/it]"
     ]
    },
    {
     "name": "stdout",
     "output_type": "stream",
     "text": [
      "###### [Epoch: 97 / 100] Train: Epoch loss: 0.01859, Epoch ANP difference: 1.82670\n",
      "###### [Epoch: 97 / 100] Valid: Epoch loss: 0.01109, Epoch ANP difference: 2.32145\n",
      "[Epoch: 98 / 100][   0/ 299] Loss: 0.09111, ANP difference: 1.247920\n"
     ]
    },
    {
     "name": "stderr",
     "output_type": "stream",
     "text": [
      " 98%|█████████▊| 98/100 [2:21:49<02:53, 86.56s/it]"
     ]
    },
    {
     "name": "stdout",
     "output_type": "stream",
     "text": [
      "###### [Epoch: 98 / 100] Train: Epoch loss: 0.01841, Epoch ANP difference: 1.85331\n",
      "###### [Epoch: 98 / 100] Valid: Epoch loss: 0.00957, Epoch ANP difference: 2.34353\n",
      "[Epoch: 99 / 100][   0/ 299] Loss: 0.00000, ANP difference: 2.327008\n"
     ]
    },
    {
     "name": "stderr",
     "output_type": "stream",
     "text": [
      " 99%|█████████▉| 99/100 [2:23:16<01:26, 86.63s/it]"
     ]
    },
    {
     "name": "stdout",
     "output_type": "stream",
     "text": [
      "###### [Epoch: 99 / 100] Train: Epoch loss: 0.02149, Epoch ANP difference: 1.76204\n",
      "###### [Epoch: 99 / 100] Valid: Epoch loss: 0.00587, Epoch ANP difference: 2.36502\n",
      "[Epoch: 100 / 100][   0/ 299] Loss: 0.00197, ANP difference: 1.581490\n"
     ]
    },
    {
     "name": "stderr",
     "output_type": "stream",
     "text": [
      "100%|██████████| 100/100 [2:24:42<00:00, 86.83s/it]"
     ]
    },
    {
     "name": "stdout",
     "output_type": "stream",
     "text": [
      "###### [Epoch: 100 / 100] Train: Epoch loss: 0.01769, Epoch ANP difference: 1.84041\n",
      "###### [Epoch: 100 / 100] Valid: Epoch loss: 0.00862, Epoch ANP difference: 2.42207\n"
     ]
    },
    {
     "name": "stderr",
     "output_type": "stream",
     "text": [
      "\n"
     ]
    }
   ],
   "source": [
    "typenet = TypeNet(window_size=16, interlayer_dropout=.5, recurrent_dropout=.2)\n",
    "\n",
    "train_loss_list, train_ap_list, train_an_list, train_an_ap_diff_list, val_loss_list, val_ap_list, val_an_list, val_an_ap_diff_list = train_loop(typenet, train_dataloader, valid_dataloader)"
   ]
  },
  {
   "cell_type": "code",
   "execution_count": 8,
   "metadata": {},
   "outputs": [],
   "source": [
    "torch.save(typenet.state_dict(), \"models/typenet.pt\")"
   ]
  },
  {
   "cell_type": "code",
   "execution_count": 1,
   "metadata": {},
   "outputs": [],
   "source": [
    "import pickle\n",
    "\n",
    "def save_pickle(filepath, data):\n",
    "    with open(filepath, \"wb\") as handle:\n",
    "        pickle.dump(data, handle, protocol=pickle.HIGHEST_PROTOCOL)\n",
    "\n",
    "def load_pickle(filepath):\n",
    "    with open(filepath, \"rb\") as handle:\n",
    "        return pickle.load(handle)"
   ]
  },
  {
   "cell_type": "code",
   "execution_count": 17,
   "metadata": {},
   "outputs": [],
   "source": [
    "save_pickle(\"msc/training_data/train_loss_list.pickle\", train_loss_list)\n",
    "save_pickle(\"msc/training_data/val_loss_list.pickle\", val_loss_list)\n",
    "save_pickle(\"msc/training_data/train_an_ap_diff_list.pickle\", train_an_ap_diff_list)\n",
    "save_pickle(\"msc/training_data/val_an_ap_diff_list.pickle\", val_an_ap_diff_list)\n",
    "\n",
    "save_pickle(\"msc/training_data/train_ap_list.pickle\", train_ap_list)\n",
    "save_pickle(\"msc/training_data/train_an_list.pickle\", train_an_list)\n",
    "save_pickle(\"msc/training_data/val_ap_list.pickle\", val_ap_list)\n",
    "save_pickle(\"msc/training_data/val_an_list.pickle\", val_an_list)"
   ]
  },
  {
   "cell_type": "code",
   "execution_count": 2,
   "metadata": {},
   "outputs": [],
   "source": [
    "import torch\n",
    "\n",
    "train_an_ap_diff_list = load_pickle(\"msc/training_data/train_an_ap_diff_list.pickle\")\n",
    "val_an_ap_diff_list = load_pickle(\"msc/training_data/val_an_ap_diff_list.pickle\")\n",
    "train_ap_list = load_pickle(\"msc/training_data/train_ap_list.pickle\")\n",
    "train_an_list = load_pickle(\"msc/training_data/train_an_list.pickle\")\n",
    "val_ap_list = load_pickle(\"msc/training_data/val_ap_list.pickle\")\n",
    "val_an_list = load_pickle(\"msc/training_data/val_an_list.pickle\")"
   ]
  },
  {
   "cell_type": "code",
   "execution_count": 18,
   "metadata": {},
   "outputs": [
    {
     "name": "stdout",
     "output_type": "stream",
     "text": [
      "TypeNet: 0.20048 M parameters\n"
     ]
    },
    {
     "data": {
      "text/plain": [
       "<All keys matched successfully>"
      ]
     },
     "execution_count": 18,
     "metadata": {},
     "output_type": "execute_result"
    }
   ],
   "source": [
    "typenet_clone = TypeNet(window_size=16, interlayer_dropout=.5, recurrent_dropout=.2)\n",
    "typenet_clone.load_state_dict(torch.load(\"models/typenet.pt\"))"
   ]
  },
  {
   "cell_type": "code",
   "execution_count": 19,
   "metadata": {},
   "outputs": [],
   "source": [
    "typenet_clone = typenet_clone.to(device)\n",
    "\n",
    "loss, ap_distance, an_distance, an_ap_diff = evaluate_model(typenet_clone, test_dataloader)"
   ]
  },
  {
   "cell_type": "code",
   "execution_count": 20,
   "metadata": {},
   "outputs": [
    {
     "data": {
      "text/plain": [
       "(0.013295741802131807,\n",
       " 2.579422924969647,\n",
       " 4.920743284998713,\n",
       " 2.3413203761384294)"
      ]
     },
     "execution_count": 20,
     "metadata": {},
     "output_type": "execute_result"
    }
   ],
   "source": [
    "loss, ap_distance, an_distance, an_ap_diff"
   ]
  },
  {
   "cell_type": "code",
   "execution_count": 3,
   "metadata": {},
   "outputs": [
    {
     "ename": "NameError",
     "evalue": "name 'train_loss_list' is not defined",
     "output_type": "error",
     "traceback": [
      "\u001b[0;31m---------------------------------------------------------------------------\u001b[0m",
      "\u001b[0;31mNameError\u001b[0m                                 Traceback (most recent call last)",
      "\u001b[1;32m/Users/ivanshamilov/Projects/ai-playground/msc_typenet.ipynb Cell 15\u001b[0m in \u001b[0;36m5\n\u001b[1;32m      <a href='vscode-notebook-cell:/Users/ivanshamilov/Projects/ai-playground/msc_typenet.ipynb#X10sZmlsZQ%3D%3D?line=1'>2</a>\u001b[0m \u001b[39mimport\u001b[39;00m \u001b[39mnumpy\u001b[39;00m \u001b[39mas\u001b[39;00m \u001b[39mnp\u001b[39;00m\n\u001b[1;32m      <a href='vscode-notebook-cell:/Users/ivanshamilov/Projects/ai-playground/msc_typenet.ipynb#X10sZmlsZQ%3D%3D?line=3'>4</a>\u001b[0m plt\u001b[39m.\u001b[39mfigure(figsize\u001b[39m=\u001b[39m(\u001b[39m14\u001b[39m, \u001b[39m10\u001b[39m))\n\u001b[0;32m----> <a href='vscode-notebook-cell:/Users/ivanshamilov/Projects/ai-playground/msc_typenet.ipynb#X10sZmlsZQ%3D%3D?line=4'>5</a>\u001b[0m plt\u001b[39m.\u001b[39mplot(train_loss_list, label\u001b[39m=\u001b[39m\u001b[39m\"\u001b[39m\u001b[39mTrain loss\u001b[39m\u001b[39m\"\u001b[39m, linewidth\u001b[39m=\u001b[39m\u001b[39m3\u001b[39m)\n\u001b[1;32m      <a href='vscode-notebook-cell:/Users/ivanshamilov/Projects/ai-playground/msc_typenet.ipynb#X10sZmlsZQ%3D%3D?line=5'>6</a>\u001b[0m plt\u001b[39m.\u001b[39mplot(val_loss_list, label\u001b[39m=\u001b[39m\u001b[39m\"\u001b[39m\u001b[39mValidation loss\u001b[39m\u001b[39m\"\u001b[39m, linewidth\u001b[39m=\u001b[39m\u001b[39m3\u001b[39m)\n\u001b[1;32m      <a href='vscode-notebook-cell:/Users/ivanshamilov/Projects/ai-playground/msc_typenet.ipynb#X10sZmlsZQ%3D%3D?line=6'>7</a>\u001b[0m plt\u001b[39m.\u001b[39myticks(ticks\u001b[39m=\u001b[39mnp\u001b[39m.\u001b[39marange(\u001b[39m0\u001b[39m, \u001b[39m1.3\u001b[39m, \u001b[39m0.1\u001b[39m), fontsize\u001b[39m=\u001b[39m\u001b[39m16\u001b[39m)\n",
      "\u001b[0;31mNameError\u001b[0m: name 'train_loss_list' is not defined"
     ]
    },
    {
     "data": {
      "text/plain": [
       "<Figure size 1400x1000 with 0 Axes>"
      ]
     },
     "metadata": {},
     "output_type": "display_data"
    }
   ],
   "source": [
    "import matplotlib.pyplot as plt\n",
    "import numpy as np\n",
    "\n",
    "plt.figure(figsize=(14, 10))\n",
    "plt.plot(train_loss_list, label=\"Train loss\", linewidth=3)\n",
    "plt.plot(val_loss_list, label=\"Validation loss\", linewidth=3)\n",
    "plt.yticks(ticks=np.arange(0, 1.3, 0.1), fontsize=16)\n",
    "plt.xticks(fontsize=16)\n",
    "plt.ylabel(\"Loss\", fontsize=20)\n",
    "plt.xlabel(\"epochs\", fontsize=20)\n",
    "\n",
    "plt.grid()\n",
    "plt.legend(prop={'size': 25});"
   ]
  },
  {
   "cell_type": "code",
   "execution_count": 6,
   "metadata": {},
   "outputs": [
    {
     "data": {
      "image/png": "[encoded data removed]",
      "text/plain": [
       "<Figure size 1400x1000 with 1 Axes>"
      ]
     },
     "metadata": {},
     "output_type": "display_data"
    }
   ],
   "source": [
    "plt.figure(figsize=(14, 10))\n",
    "plt.plot(train_an_ap_diff_list, label=\"Train ANP difference\", linewidth=3)\n",
    "plt.plot(val_an_ap_diff_list, label=\"Validation ANP difference\", linewidth=3)\n",
    "\n",
    "plt.yticks(ticks=np.arange(0, 2.5, 0.2), fontsize=24)\n",
    "plt.xticks(fontsize=24)\n",
    "plt.ylabel(\"ANP Difference\", fontsize=24)\n",
    "plt.xlabel(\"epochs\", fontsize=24)\n",
    "\n",
    "plt.grid()\n",
    "plt.legend(prop={'size': 25});"
   ]
  },
  {
   "cell_type": "code",
   "execution_count": null,
   "metadata": {},
   "outputs": [],
   "source": []
  }
 ],
 "metadata": {
  "kernelspec": {
   "display_name": "Python 3 (ipykernel)",
   "language": "python",
   "name": "python3"
  },
  "language_info": {
   "codemirror_mode": {
    "name": "ipython",
    "version": 3
   },
   "file_extension": ".py",
   "mimetype": "text/x-python",
   "name": "python",
   "nbconvert_exporter": "python",
   "pygments_lexer": "ipython3",
   "version": "3.9.16"
  },
  "orig_nbformat": 4
 },
 "nbformat": 4,
 "nbformat_minor": 2
}
